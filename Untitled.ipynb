{
 "cells": [
  {
   "cell_type": "markdown",
   "id": "5d7224a5",
   "metadata": {},
   "source": [
    "# ODS NLP Course: seminar 2\n",
    "## LogReg, TFiDf ,  Classification\n"
   ]
  },
  {
   "cell_type": "markdown",
   "id": "30738043",
   "metadata": {},
   "source": [
    "# [1] Linear models"
   ]
  },
  {
   "cell_type": "markdown",
   "id": "04998fe0",
   "metadata": {},
   "source": [
    "## [1.1] Regression Problem: Linear Regression"
   ]
  },
  {
   "cell_type": "markdown",
   "id": "1b435245",
   "metadata": {},
   "source": [
    "### [1.1.1] Problem Statement"
   ]
  },
  {
   "cell_type": "markdown",
   "id": "6aa2c9d2",
   "metadata": {},
   "source": [
    "Let's predict the behavior of a linear function\n",
    "$$y = 2x_1 + 5x_2 - 3$$\n",
    "\n",
    "Linear Equation of Multiple Variables for  𝑘\n",
    " The observation will look like this:\n",
    "$$y^{[k]} = x^{[k]}_1 \\cdot w_1 + \\dots + x^{[k]}_m \\cdot w_m + b$$\n",
    "\n",
    "The same equation in vector form via **dot product**:\n",
    "$$y^{[k]} = {\\bf x}^{[k]} \\cdot {\\bf w} + b$$\n",
    "\n",
    "The same equation in matrix form through **the matrix product**:\n",
    "$$y^{[k]} = X^{[k]}_{[1;\\ m]} \\times W_{[m;\\ 1]} + b$$\n",
    "\n",
    "The same equation when generalized to all  ∗\n",
    "  observations, moreover,  𝑡\n",
    "  different targets:\n",
    "$${Y}_{[*;\\ t]} = {X}_{[*;\\ m]} \\times {W}_{[m;\\ t]} + {b}_{[*;\\ t]}$$"
   ]
  },
  {
   "cell_type": "code",
   "execution_count": 1,
   "id": "de5aa1f4",
   "metadata": {},
   "outputs": [],
   "source": [
    "import numpy as np"
   ]
  },
  {
   "cell_type": "code",
   "execution_count": 2,
   "id": "6ec9642d",
   "metadata": {},
   "outputs": [
    {
     "data": {
      "text/plain": [
       "(array([[ 18.,   8.],\n",
       "        [ -6., -13.],\n",
       "        [  0.,  18.],\n",
       "        [ -2.,   2.],\n",
       "        [-10., -10.],\n",
       "        [  3.,  15.],\n",
       "        [ 19.,   3.],\n",
       "        [-18.,   1.],\n",
       "        [-19.,   3.],\n",
       "        [  9.,  17.],\n",
       "        [-19.,   0.],\n",
       "        [ 12.,  -9.],\n",
       "        [  1.,   4.],\n",
       "        [  6.,   7.],\n",
       "        [ -5.,  -6.],\n",
       "        [-18.,  16.],\n",
       "        [-14.,   0.],\n",
       "        [-12.,  18.],\n",
       "        [ -3., -17.],\n",
       "        [  4.,  -7.]]),\n",
       " array([[ 73.],\n",
       "        [-80.],\n",
       "        [ 87.],\n",
       "        [  3.],\n",
       "        [-73.],\n",
       "        [ 78.],\n",
       "        [ 50.],\n",
       "        [-34.],\n",
       "        [-26.],\n",
       "        [100.],\n",
       "        [-41.],\n",
       "        [-24.],\n",
       "        [ 19.],\n",
       "        [ 44.],\n",
       "        [-43.],\n",
       "        [ 41.],\n",
       "        [-31.],\n",
       "        [ 63.],\n",
       "        [-94.],\n",
       "        [-30.]]))"
      ]
     },
     "execution_count": 2,
     "metadata": {},
     "output_type": "execute_result"
    }
   ],
   "source": [
    "# given parameters\n",
    "W_true = [[2],[5]]\n",
    "b_true = [[-3]]\n",
    "\n",
    "# generated observations\n",
    "\n",
    "np.random.seed(42)\n",
    "X = np.random.randint(low=-20,high=20,size=(20,len(W_true))) + 0.0\n",
    "y = X@W_true+b_true\n",
    "X, y\n"
   ]
  },
  {
   "cell_type": "markdown",
   "id": "6afe5d93",
   "metadata": {},
   "source": [
    "Let's consider the contribution of the parameter to the specular derivative\n",
    "$$\\frac{\\Delta L}{\\Delta p} ≈\n",
    "\\frac{\\partial L}{\\partial p} =\n",
    "\\frac{\\partial L}{\\partial \\bar{y}}\n",
    "\\frac{\\partial \\bar{y}}{\\partial p} =\n",
    "L^{'}_{\\bar{y}} \\cdot \\frac{\\partial \\bar{y}}{\\partial p}\n",
    "$$\n",
    "\n",
    "Accordingly, derivatives of  $𝑏$ and $𝑤_𝑖$:\n",
    "$$\\begin{align}\n",
    "\\frac{\\partial L}{\\partial b} &= L^{'}_\\bar{y} \\cdot 1 \\\\\n",
    "\\frac{\\partial L}{\\partial w_i} &= L^{'}_{\\bar{y}} \\cdot x_i\n",
    "\\end{align}$$\n",
    "\n",
    "In matrix form, you get:\n",
    "$$\\begin{align}\n",
    "\\frac{\\partial L}{\\partial b}_{[*;\\ t]} &= {L^{'}_\\bar{Y}}_{[*;\\ t]}\\\\\n",
    "\\frac{\\partial L}{\\partial W}_{[m;\\ t]} &= X^T_{[m;\\ *]} \\times {L^{'}_\\bar{Y}}_{[*;\\ t]}\n",
    "\\end{align}$$\n",
    "\n",
    "\n"
   ]
  },
  {
   "cell_type": "code",
   "execution_count": 3,
   "id": "1e280439",
   "metadata": {},
   "outputs": [
    {
     "data": {
      "text/plain": [
       "'y = 2.00*x1 + 5.00*x2 + 3.00'"
      ]
     },
     "execution_count": 3,
     "metadata": {},
     "output_type": "execute_result"
    }
   ],
   "source": [
    "def equation(w=np.array([2, 5]), b=np.array(3)):\n",
    "    return 'y = ' + ' + '.join(f'{w[i].item():.2f}*x{i+1}' for i in range(len(w))) + f' + {b.item():.2f}'\n",
    "equation()"
   ]
  },
  {
   "cell_type": "markdown",
   "id": "d4a29dfb",
   "metadata": {},
   "source": [
    "## [1.1.2] NumPy solution"
   ]
  },
  {
   "cell_type": "code",
   "execution_count": 7,
   "id": "0f0b73c9",
   "metadata": {},
   "outputs": [
    {
     "name": "stdout",
     "output_type": "stream",
     "text": [
      "step   1:\ty = 2.90*x1 + 5.65*x2 + 0.04\tloss: 3390.100000\n",
      "step 100:\ty = 2.02*x1 + 4.97*x2 + -1.75\tloss: 1.423337\n",
      "step 200:\ty = 2.01*x1 + 4.99*x2 + -2.49\tloss: 0.236051\n",
      "step 300:\ty = 2.00*x1 + 5.00*x2 + -2.79\tloss: 0.039147\n",
      "step 400:\ty = 2.00*x1 + 5.00*x2 + -2.92\tloss: 0.006492\n",
      "step 500:\ty = 2.00*x1 + 5.00*x2 + -2.97\tloss: 0.001077\n",
      "step 600:\ty = 2.00*x1 + 5.00*x2 + -2.99\tloss: 0.000179\n",
      "step 700:\ty = 2.00*x1 + 5.00*x2 + -2.99\tloss: 0.000030\n",
      "step 800:\ty = 2.00*x1 + 5.00*x2 + -3.00\tloss: 0.000005\n",
      "step 900:\ty = 2.00*x1 + 5.00*x2 + -3.00\tloss: 0.000001\n",
      "step 1000:\ty = 2.00*x1 + 5.00*x2 + -3.00\tloss: 0.000000\n"
     ]
    }
   ],
   "source": [
    "# сгенерированные данные\n",
    "np.random.seed(42)\n",
    "W_true = np.array([[2], [5]])\n",
    "b_true = -3\n",
    "X = np.random.randint(-20, 20, (20, len(W_true))) + 0.0\n",
    "y = X @ W_true + b_true\n",
    "\n",
    "def np_train(X, y, lr=0.005, max_iter=1000):\n",
    "    # предсказываемые параметры\n",
    "    W = np.zeros((X.shape[-1], y.shape[-1]))\n",
    "    b = np.zeros((1, y.shape[-1]))\n",
    "\n",
    "    for i in range(1, max_iter+1):\n",
    "        # предсказание и ошибка\n",
    "        y_pred = X @ W + b\n",
    "        loss = np.sum((y_pred - y) ** 2) / len(y)\n",
    "\n",
    "        # расчёт градиентов\n",
    "        L_grad = (2/len(y)) * (y_pred - y)\n",
    "        b_grad = np.sum(L_grad)\n",
    "        W_grad = np.sum(X.T @ L_grad, axis=1, keepdims=True)\n",
    "\n",
    "        # шаг градиента\n",
    "        W -= lr * W_grad\n",
    "        b -= lr * b_grad\n",
    "\n",
    "        # прогресс\n",
    "        if i == 1 or i % 100 == 0:\n",
    "            print(f\"step {i:3}:\", equation(W, b), f\"loss: {loss.item():.6f}\", sep='\\t')\n",
    "\n",
    "np_train(X, y)"
   ]
  },
  {
   "cell_type": "markdown",
   "id": "9e5e06e2",
   "metadata": {},
   "source": [
    "### [1.1.3] Torch Solution"
   ]
  },
  {
   "cell_type": "code",
   "execution_count": 8,
   "id": "a70211c2",
   "metadata": {},
   "outputs": [],
   "source": [
    "import torch"
   ]
  },
  {
   "cell_type": "code",
   "execution_count": 9,
   "id": "a395942a",
   "metadata": {},
   "outputs": [
    {
     "name": "stdout",
     "output_type": "stream",
     "text": [
      "step   1:\ty = 2.90*x1 + 5.64*x2 + 0.04\tloss: 3390.100000\n",
      "step 100:\ty = 2.02*x1 + 4.97*x2 + -1.75\tloss: 1.423340\n",
      "step 200:\ty = 2.01*x1 + 4.99*x2 + -2.49\tloss: 0.236050\n",
      "step 300:\ty = 2.00*x1 + 5.00*x2 + -2.79\tloss: 0.039147\n",
      "step 400:\ty = 2.00*x1 + 5.00*x2 + -2.92\tloss: 0.006492\n",
      "step 500:\ty = 2.00*x1 + 5.00*x2 + -2.97\tloss: 0.001077\n",
      "step 600:\ty = 2.00*x1 + 5.00*x2 + -2.99\tloss: 0.000179\n",
      "step 700:\ty = 2.00*x1 + 5.00*x2 + -2.99\tloss: 0.000030\n",
      "step 800:\ty = 2.00*x1 + 5.00*x2 + -3.00\tloss: 0.000005\n",
      "step 900:\ty = 2.00*x1 + 5.00*x2 + -3.00\tloss: 0.000001\n",
      "step 1000:\ty = 2.00*x1 + 5.00*x2 + -3.00\tloss: 0.000000\n"
     ]
    }
   ],
   "source": [
    "# generated data\n",
    "\n",
    "X = torch.tensor(X).to(torch.float32)\n",
    "\n",
    "y = X @ W_true + b_true\n",
    "\n",
    "def torch_train(X, y, lr=0.005, max_iter=1000):\n",
    "    # predicted parameters\n",
    "\n",
    "    W = torch.zeros(X.shape[1], y.shape[1], requires_grad=True)\n",
    "    b = torch.zeros(y.shape[1], requires_grad=True)\n",
    "\n",
    "    for i in range(1, max_iter+1):\n",
    "        # prediction and error\n",
    "\n",
    "        y_pred = X @ W + b\n",
    "        loss = torch.mean((y_pred - y) ** 2)\n",
    "\n",
    "      # calculation of gradients\n",
    "        loss.backward()\n",
    "\n",
    "        with torch.no_grad():\n",
    "         # gradient step\n",
    "            W -= lr * W.grad\n",
    "            b -= lr * b.grad\n",
    "\n",
    "            # reset the accumulated gradient (inplace)\n",
    "            W.grad.zero_()\n",
    "            b.grad.zero_()\n",
    "\n",
    "        # progress\n",
    "\n",
    "        if i == 1 or i % 100 == 0:\n",
    "            print(f\"step {i:3}:\", equation(W, b), f\"loss: {loss.item():.6f}\", sep='\\t')\n",
    "\n",
    "torch_train(X, y)"
   ]
  },
  {
   "cell_type": "markdown",
   "id": "361275f6",
   "metadata": {},
   "source": [
    "## [1.2] Classification Objective: Logistic Regression\n",
    "\n",
    "### [1.2.1] Data analysis"
   ]
  },
  {
   "cell_type": "code",
   "execution_count": 14,
   "id": "312afe09",
   "metadata": {},
   "outputs": [
    {
     "name": "stdout",
     "output_type": "stream",
     "text": [
      "dict_keys(['data', 'target', 'frame', 'target_names', 'DESCR', 'feature_names', 'filename', 'data_module'])\n"
     ]
    }
   ],
   "source": [
    "from sklearn.datasets import load_iris\n",
    "iris = load_iris()\n",
    "print(iris.keys())"
   ]
  },
  {
   "cell_type": "code",
   "execution_count": 16,
   "id": "0be0956e",
   "metadata": {},
   "outputs": [
    {
     "data": {
      "text/plain": [
       "array([0, 0, 0, 0, 0, 0, 0, 0, 0, 0, 0, 0, 0, 0, 0, 0, 0, 0, 0, 0, 0, 0,\n",
       "       0, 0, 0, 0, 0, 0, 0, 0, 0, 0, 0, 0, 0, 0, 0, 0, 0, 0, 0, 0, 0, 0,\n",
       "       0, 0, 0, 0, 0, 0, 1, 1, 1, 1, 1, 1, 1, 1, 1, 1, 1, 1, 1, 1, 1, 1,\n",
       "       1, 1, 1, 1, 1, 1, 1, 1, 1, 1, 1, 1, 1, 1, 1, 1, 1, 1, 1, 1, 1, 1,\n",
       "       1, 1, 1, 1, 1, 1, 1, 1, 1, 1, 1, 1, 2, 2, 2, 2, 2, 2, 2, 2, 2, 2,\n",
       "       2, 2, 2, 2, 2, 2, 2, 2, 2, 2, 2, 2, 2, 2, 2, 2, 2, 2, 2, 2, 2, 2,\n",
       "       2, 2, 2, 2, 2, 2, 2, 2, 2, 2, 2, 2, 2, 2, 2, 2, 2, 2])"
      ]
     },
     "execution_count": 16,
     "metadata": {},
     "output_type": "execute_result"
    }
   ],
   "source": [
    "iris.target"
   ]
  },
  {
   "cell_type": "code",
   "execution_count": 19,
   "id": "751daa23",
   "metadata": {},
   "outputs": [
    {
     "data": {
      "text/html": [
       "<div>\n",
       "<style scoped>\n",
       "    .dataframe tbody tr th:only-of-type {\n",
       "        vertical-align: middle;\n",
       "    }\n",
       "\n",
       "    .dataframe tbody tr th {\n",
       "        vertical-align: top;\n",
       "    }\n",
       "\n",
       "    .dataframe thead th {\n",
       "        text-align: right;\n",
       "    }\n",
       "</style>\n",
       "<table border=\"1\" class=\"dataframe\">\n",
       "  <thead>\n",
       "    <tr style=\"text-align: right;\">\n",
       "      <th></th>\n",
       "      <th>sepal length (cm)</th>\n",
       "      <th>sepal width (cm)</th>\n",
       "      <th>petal length (cm)</th>\n",
       "      <th>petal width (cm)</th>\n",
       "      <th>target</th>\n",
       "    </tr>\n",
       "  </thead>\n",
       "  <tbody>\n",
       "    <tr>\n",
       "      <th>0</th>\n",
       "      <td>5.1</td>\n",
       "      <td>3.5</td>\n",
       "      <td>1.4</td>\n",
       "      <td>0.2</td>\n",
       "      <td>setosa</td>\n",
       "    </tr>\n",
       "    <tr>\n",
       "      <th>1</th>\n",
       "      <td>4.9</td>\n",
       "      <td>3.0</td>\n",
       "      <td>1.4</td>\n",
       "      <td>0.2</td>\n",
       "      <td>setosa</td>\n",
       "    </tr>\n",
       "    <tr>\n",
       "      <th>2</th>\n",
       "      <td>4.7</td>\n",
       "      <td>3.2</td>\n",
       "      <td>1.3</td>\n",
       "      <td>0.2</td>\n",
       "      <td>setosa</td>\n",
       "    </tr>\n",
       "    <tr>\n",
       "      <th>3</th>\n",
       "      <td>4.6</td>\n",
       "      <td>3.1</td>\n",
       "      <td>1.5</td>\n",
       "      <td>0.2</td>\n",
       "      <td>setosa</td>\n",
       "    </tr>\n",
       "    <tr>\n",
       "      <th>4</th>\n",
       "      <td>5.0</td>\n",
       "      <td>3.6</td>\n",
       "      <td>1.4</td>\n",
       "      <td>0.2</td>\n",
       "      <td>setosa</td>\n",
       "    </tr>\n",
       "    <tr>\n",
       "      <th>...</th>\n",
       "      <td>...</td>\n",
       "      <td>...</td>\n",
       "      <td>...</td>\n",
       "      <td>...</td>\n",
       "      <td>...</td>\n",
       "    </tr>\n",
       "    <tr>\n",
       "      <th>145</th>\n",
       "      <td>6.7</td>\n",
       "      <td>3.0</td>\n",
       "      <td>5.2</td>\n",
       "      <td>2.3</td>\n",
       "      <td>virginica</td>\n",
       "    </tr>\n",
       "    <tr>\n",
       "      <th>146</th>\n",
       "      <td>6.3</td>\n",
       "      <td>2.5</td>\n",
       "      <td>5.0</td>\n",
       "      <td>1.9</td>\n",
       "      <td>virginica</td>\n",
       "    </tr>\n",
       "    <tr>\n",
       "      <th>147</th>\n",
       "      <td>6.5</td>\n",
       "      <td>3.0</td>\n",
       "      <td>5.2</td>\n",
       "      <td>2.0</td>\n",
       "      <td>virginica</td>\n",
       "    </tr>\n",
       "    <tr>\n",
       "      <th>148</th>\n",
       "      <td>6.2</td>\n",
       "      <td>3.4</td>\n",
       "      <td>5.4</td>\n",
       "      <td>2.3</td>\n",
       "      <td>virginica</td>\n",
       "    </tr>\n",
       "    <tr>\n",
       "      <th>149</th>\n",
       "      <td>5.9</td>\n",
       "      <td>3.0</td>\n",
       "      <td>5.1</td>\n",
       "      <td>1.8</td>\n",
       "      <td>virginica</td>\n",
       "    </tr>\n",
       "  </tbody>\n",
       "</table>\n",
       "<p>150 rows × 5 columns</p>\n",
       "</div>"
      ],
      "text/plain": [
       "     sepal length (cm)  sepal width (cm)  petal length (cm)  petal width (cm)  \\\n",
       "0                  5.1               3.5                1.4               0.2   \n",
       "1                  4.9               3.0                1.4               0.2   \n",
       "2                  4.7               3.2                1.3               0.2   \n",
       "3                  4.6               3.1                1.5               0.2   \n",
       "4                  5.0               3.6                1.4               0.2   \n",
       "..                 ...               ...                ...               ...   \n",
       "145                6.7               3.0                5.2               2.3   \n",
       "146                6.3               2.5                5.0               1.9   \n",
       "147                6.5               3.0                5.2               2.0   \n",
       "148                6.2               3.4                5.4               2.3   \n",
       "149                5.9               3.0                5.1               1.8   \n",
       "\n",
       "        target  \n",
       "0       setosa  \n",
       "1       setosa  \n",
       "2       setosa  \n",
       "3       setosa  \n",
       "4       setosa  \n",
       "..         ...  \n",
       "145  virginica  \n",
       "146  virginica  \n",
       "147  virginica  \n",
       "148  virginica  \n",
       "149  virginica  \n",
       "\n",
       "[150 rows x 5 columns]"
      ]
     },
     "execution_count": 19,
     "metadata": {},
     "output_type": "execute_result"
    }
   ],
   "source": [
    "import pandas as pd\n",
    "df = pd.DataFrame(iris.data,columns= iris.feature_names)\n",
    "df['target']= iris.target_names[iris.target]\n",
    "df"
   ]
  },
  {
   "cell_type": "code",
   "execution_count": 22,
   "id": "225bdcda",
   "metadata": {},
   "outputs": [
    {
     "data": {
      "text/plain": [
       "<seaborn.axisgrid.PairGrid at 0x22002637700>"
      ]
     },
     "execution_count": 22,
     "metadata": {},
     "output_type": "execute_result"
    }
   ],
   "source": [
    "import seaborn as sns\n",
    "sns.pairplot(df,hue='target', height=2)\n",
    "#hue means depicting the differnt categorical varialble of target "
   ]
  },
  {
   "cell_type": "markdown",
   "id": "e9206ce5",
   "metadata": {},
   "source": [
    "### [1.2.2] Scikit-learn solution"
   ]
  },
  {
   "cell_type": "code",
   "execution_count": 37,
   "id": "75347b8e",
   "metadata": {},
   "outputs": [
    {
     "data": {
      "text/plain": [
       "(tensor([[0., 1., 1., 1., 0., 1., 1., 0., 1., 0., 1., 1., 0., 0., 1., 1., 1., 0.,\n",
       "          1., 0., 1., 1., 0., 0., 0., 0., 0., 1., 1., 0., 0., 1., 1., 1., 1., 1.,\n",
       "          1., 0., 1., 1., 1., 0., 1., 1., 0., 0., 1., 0., 1., 1., 0., 1., 0., 0.,\n",
       "          0., 0., 0., 0., 0., 0., 0., 1., 0., 1., 0., 1., 1.]]),\n",
       " tensor([[1., 0., 1., 0., 0., 0., 1., 1., 1., 0., 0., 0., 1., 0., 1., 0., 1., 0.,\n",
       "          1., 0., 0., 1., 1., 0., 1., 0., 1., 1., 0., 0., 1., 0., 0.]]))"
      ]
     },
     "execution_count": 37,
     "metadata": {},
     "output_type": "execute_result"
    }
   ],
   "source": [
    "# from sklearn.model_selection import train_test_split\n",
    "\n",
    "def train_test_split(*args,test_size = 0.33, random_state =42) -> tuple[torch.Tensor]:\n",
    "    torch.manual_seed(random_state)\n",
    "    idx = torch.randperm(n := args[0].shape[0])\n",
    "    test = round(n*test_size)\n",
    "    return tuple(\n",
    "        torch.Tensor(result)\n",
    "        for arg in args\n",
    "        for result in (arg[idx[:-test]],arg[idx[-test:]])\n",
    "    )\n",
    "\n",
    "X , y = load_iris(return_X_y=True)\n",
    "X_train, X_test, y_train, y_test = train_test_split(X[y!=2],y[y!=2][:,None])\n",
    "y_train.T, y_test.T"
   ]
  },
  {
   "cell_type": "code",
   "execution_count": 38,
   "id": "2babc75b",
   "metadata": {},
   "outputs": [
    {
     "data": {
      "text/plain": [
       "'y = 0.42*x1 + -0.90*x2 + 2.08*x3 + 0.86*x4 + -5.77'"
      ]
     },
     "execution_count": 38,
     "metadata": {},
     "output_type": "execute_result"
    }
   ],
   "source": [
    "from sklearn.linear_model import LogisticRegression\n",
    "clf = LogisticRegression().fit(X_train,y_train.ravel())\n",
    "equation(clf.coef_.T,clf.intercept_)"
   ]
  },
  {
   "cell_type": "markdown",
   "id": "35b9d218",
   "metadata": {},
   "source": [
    "### [1.2.3] Torch classifier\n"
   ]
  },
  {
   "cell_type": "markdown",
   "id": "38afe680",
   "metadata": {},
   "source": [
    "**SoftMax**\n",
    "\n",
    "To classify, you need to make a decision somehow, for example, through confidence from 0 to 1\n",
    "\n",
    "For example, SoftMax for $k$-classes is defined:\n",
    "$$\\begin{align}\n",
    "\\text{SoftMax}(z_i) = \\frac{e^{z_i}}{e^{z_1} + \\dots + e^{z_k}}\n",
    "\\end{align}$$\n",
    "\n",
    "*it’s not difficult to notice that:\n",
    "- $\\text{SoftMax}(z_1) + \\dots + \\text{SoftMax}(z_k) = 1$\n",
    "- $\\text{SoftMax}(z_i) \\in [0, 1]$"
   ]
  },
  {
   "cell_type": "markdown",
   "id": "7e303244",
   "metadata": {},
   "source": [
    "\n",
    "**Sigmoid**\n",
    "\n",
    "Softmax can also be used for 2 classes:\n",
    "$$\\text{SoftMax}(z_1) = \\frac{e^{z_1}}{e^{z_1} + e^{z_2}} = \\frac{1}{1 + e^{z_2-z_1}}$$\n",
    "\n",
    "But for 2 classes it is enough to predict only one class\n",
    "\n",
    "Those. if we put $z_2 = 0$ then we get Sigmoid:\n",
    "$$\\text{Sigmoid}(z) = \\frac{1}{1 + e^{-z}}$$"
   ]
  },
  {
   "cell_type": "markdown",
   "id": "9a80a9d7",
   "metadata": {},
   "source": [
    "![image.png](data:image/png;base64,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)"
   ]
  },
  {
   "cell_type": "markdown",
   "id": "90b037fe",
   "metadata": {},
   "source": [
    "Likelihood Maximization\n",
    "$$likehood = ∏ [y_{pred}=1]^{[y_{real}=1]} [y_{pred}=0]^{[y_{real}=0]}$$\n",
    "$$likehood = ∏ {y_{pred}}^{y_{real}} (1-y_{pred})^{1-y_{real}}$$\n",
    "$$log\\_likehood = Σ \\log({y_{pred}}^{y_{real}}) + \\log((1-y_{pred})^{1-y_{real}})$$\n",
    "$$log\\_likehood\\_loss = - Σ \\log({y_{pred}}^{y_{real}}) - \\log((1-y_{pred})^{1-y_{real}})$$"
   ]
  },
  {
   "cell_type": "code",
   "execution_count": 40,
   "id": "15774007",
   "metadata": {},
   "outputs": [
    {
     "name": "stdout",
     "output_type": "stream",
     "text": [
      "step   1:\ty = -0.20*x1 + 0.16*x2 + 0.65*x3 + 0.94*x4 + -0.24\tloss: 4.9028\tacc: 0.4545\n",
      "step  10:\ty = -0.56*x1 + -0.69*x2 + 1.60*x3 + 1.35*x4 + -0.39\tloss: 0.0801\tacc: 1.0000\n",
      "step  20:\ty = -0.56*x1 + -0.84*x2 + 1.84*x3 + 1.45*x4 + -0.40\tloss: 0.0424\tacc: 1.0000\n",
      "step  30:\ty = -0.59*x1 + -0.96*x2 + 2.00*x3 + 1.52*x4 + -0.42\tloss: 0.0325\tacc: 1.0000\n",
      "step  40:\ty = -0.60*x1 + -1.06*x2 + 2.13*x3 + 1.58*x4 + -0.43\tloss: 0.0264\tacc: 1.0000\n",
      "step  50:\ty = -0.62*x1 + -1.13*x2 + 2.24*x3 + 1.62*x4 + -0.45\tloss: 0.0223\tacc: 1.0000\n",
      "step  60:\ty = -0.63*x1 + -1.20*x2 + 2.33*x3 + 1.66*x4 + -0.45\tloss: 0.0193\tacc: 1.0000\n",
      "step  70:\ty = -0.64*x1 + -1.26*x2 + 2.41*x3 + 1.70*x4 + -0.46\tloss: 0.0171\tacc: 1.0000\n",
      "step  80:\ty = -0.65*x1 + -1.31*x2 + 2.48*x3 + 1.73*x4 + -0.47\tloss: 0.0153\tacc: 1.0000\n",
      "step  90:\ty = -0.66*x1 + -1.36*x2 + 2.55*x3 + 1.76*x4 + -0.48\tloss: 0.0139\tacc: 1.0000\n",
      "step 100:\ty = -0.66*x1 + -1.40*x2 + 2.60*x3 + 1.78*x4 + -0.48\tloss: 0.0127\tacc: 1.0000\n"
     ]
    }
   ],
   "source": [
    "class LogisticRegression2:\n",
    "    def __init__(self): pass\n",
    "\n",
    "    @staticmethod\n",
    "    def sigmoid(z):\n",
    "        return 1 / (1 + torch.exp(-z))\n",
    "\n",
    "    def predict_proba(self, X):\n",
    "        return self.sigmoid(X @ self.W + self.b)\n",
    "\n",
    "    def predict(self, X, threshold=0.5): # по классам\n",
    "        with torch.no_grad():\n",
    "            proba = self.predict_proba(torch.Tensor(X))\n",
    "            return (proba > threshold).to(int)\n",
    "\n",
    "    def score(self, X, y):\n",
    "        return (self.predict(X_test) == y_test).to(float).mean().item()\n",
    "\n",
    "    @staticmethod\n",
    "    def loss(y_true, y_pred):\n",
    "        return -(y_true * torch.log(y_pred) + (1 - y_true) * torch.log(1 - y_pred)).mean()\n",
    "\n",
    "    def fit(self, X, y, lr=0.5, max_iter=1000):\n",
    "        # предсказываемые параметры\n",
    "        self.W = torch.ones(X.shape[1], y.shape[1], requires_grad=True)\n",
    "        self.b = torch.zeros(y.shape[1], requires_grad=True)\n",
    "\n",
    "        for i in range(1, max_iter+1):\n",
    "            # предсказание и ошибка\n",
    "            y_pred = self.predict_proba(X)\n",
    "            loss = self.loss(y, y_pred)\n",
    "\n",
    "            # расчёт градиентов\n",
    "            loss.backward()\n",
    "\n",
    "            with torch.no_grad():\n",
    "                # шаг градиента\n",
    "                self.W -= lr * self.W.grad\n",
    "                self.b -= lr * self.b.grad\n",
    "\n",
    "                # обнуление накопленного градиента (inplace)\n",
    "                self.W.grad.zero_()\n",
    "                self.b.grad.zero_()\n",
    "\n",
    "            # прогресс\n",
    "            if i == 1 or i % 10 == 0:\n",
    "                print(f\"step {i:3}:\", equation(self.W, self.b), f\"loss: {loss.item():.4f}\", f\"acc: {self.score(X, y):.4f}\", sep='\\t')\n",
    "\n",
    "clf2 = LogisticRegression2()\n",
    "clf2.fit(X_train, y_train, max_iter=100)"
   ]
  },
  {
   "cell_type": "markdown",
   "id": "4378a81f",
   "metadata": {},
   "source": [
    "\n",
    "### [2.1.2] Precision & Recall\n",
    "\n",
    "The problem may be such that we are only interested in predicting the label<<$+$>>\n",
    "\n",
    "Then two metrics stand out:\n",
    "- **Precision** - accuracy, pinpoint aiming (like grafting)\n",
    "- **Recall** – completeness, complete solution to the problem (like an antibiotic)\n",
    "\n",
    "\n",
    "$$Precision = \\frac{TP}{TP+FP} = \\frac{TP}{[y_{pred}^+]} = \\frac{[y_{real}^+==y_{pred}^+] }{[y_{pred}^+]} = \\frac{correctly\\predicted\\ +}{all\\predicted\\ +}$$\n",
    "$$Recall = \\frac{TP}{TP+FN} = \\frac{TP}{[y_{real}^+]} = \\frac{[y_{real}^+==y_{pred}^+] }{[y_{real}^+]} = \\frac{correctly\\ predicted\\ +}{all\\ real\\ +}$$"
   ]
  },
  {
   "cell_type": "markdown",
   "id": "deab9924",
   "metadata": {},
   "source": [
    "# [3] Text Classification"
   ]
  },
  {
   "cell_type": "markdown",
   "id": "4cb12807",
   "metadata": {},
   "source": [
    "## [3.1] TF-iDF vectorization"
   ]
  },
  {
   "cell_type": "markdown",
   "id": "cfc3d03d",
   "metadata": {},
   "source": [
    "### [3.1.1] Data analysis"
   ]
  },
  {
   "cell_type": "code",
   "execution_count": 43,
   "id": "3c74ad79",
   "metadata": {},
   "outputs": [
    {
     "name": "stderr",
     "output_type": "stream",
     "text": [
      "[nltk_data] Downloading package movie_reviews to movie_reviews...\n",
      "[nltk_data]   Unzipping corpora\\movie_reviews.zip.\n"
     ]
    },
    {
     "data": {
      "text/plain": [
       "True"
      ]
     },
     "execution_count": 43,
     "metadata": {},
     "output_type": "execute_result"
    }
   ],
   "source": [
    "# Download the demo dataset\n",
    "import nltk\n",
    "\n",
    "nltk.download(\"movie_reviews\", download_dir = 'movie_reviews')"
   ]
  },
  {
   "cell_type": "code",
   "execution_count": 44,
   "id": "f38b3ab7",
   "metadata": {},
   "outputs": [
    {
     "data": {
      "text/html": [
       "<div>\n",
       "<style scoped>\n",
       "    .dataframe tbody tr th:only-of-type {\n",
       "        vertical-align: middle;\n",
       "    }\n",
       "\n",
       "    .dataframe tbody tr th {\n",
       "        vertical-align: top;\n",
       "    }\n",
       "\n",
       "    .dataframe thead th {\n",
       "        text-align: right;\n",
       "    }\n",
       "</style>\n",
       "<table border=\"1\" class=\"dataframe\">\n",
       "  <thead>\n",
       "    <tr style=\"text-align: right;\">\n",
       "      <th></th>\n",
       "      <th>text</th>\n",
       "      <th>label</th>\n",
       "    </tr>\n",
       "  </thead>\n",
       "  <tbody>\n",
       "    <tr>\n",
       "      <th>0</th>\n",
       "      <td>plot : two teen couples go to a church party ,...</td>\n",
       "      <td>neg</td>\n",
       "    </tr>\n",
       "    <tr>\n",
       "      <th>1</th>\n",
       "      <td>the happy bastard's quick movie review \\ndamn ...</td>\n",
       "      <td>neg</td>\n",
       "    </tr>\n",
       "    <tr>\n",
       "      <th>2</th>\n",
       "      <td>it is movies like these that make a jaded movi...</td>\n",
       "      <td>neg</td>\n",
       "    </tr>\n",
       "    <tr>\n",
       "      <th>3</th>\n",
       "      <td>\" quest for camelot \" is warner bros . ' firs...</td>\n",
       "      <td>neg</td>\n",
       "    </tr>\n",
       "    <tr>\n",
       "      <th>4</th>\n",
       "      <td>synopsis : a mentally unstable man undergoing ...</td>\n",
       "      <td>neg</td>\n",
       "    </tr>\n",
       "  </tbody>\n",
       "</table>\n",
       "</div>"
      ],
      "text/plain": [
       "                                                text label\n",
       "0  plot : two teen couples go to a church party ,...   neg\n",
       "1  the happy bastard's quick movie review \\ndamn ...   neg\n",
       "2  it is movies like these that make a jaded movi...   neg\n",
       "3   \" quest for camelot \" is warner bros . ' firs...   neg\n",
       "4  synopsis : a mentally unstable man undergoing ...   neg"
      ]
     },
     "execution_count": 44,
     "metadata": {},
     "output_type": "execute_result"
    }
   ],
   "source": [
    "# Let's assemble the corpus in a DataFrame\n",
    "from pathlib import Path\n",
    "import pandas as pd\n",
    "\n",
    "paths = list(Path('movie_reviews').glob('**/*.txt'))\n",
    "df = pd.DataFrame([\n",
    "    {'text':path.read_text(\"utf-8\"),\n",
    "    'label': path.parent.name}\n",
    "    for path in paths\n",
    "])\n",
    "\n",
    "df.head()"
   ]
  },
  {
   "cell_type": "code",
   "execution_count": 46,
   "id": "c7a7dde5",
   "metadata": {},
   "outputs": [],
   "source": [
    "# tain_test_split\n",
    "\n",
    "partition = round(0.7 * len(df))\n",
    "df_shuffled = df.sample(frac = 1, random_state=42)\n",
    "\n",
    "train_df = df_shuffled.iloc[:partition]\n",
    "test_df = df_shuffled.iloc[patition:]\n",
    "\n",
    "train_texts, train_labels = train_df['text'], train_df['label']\n",
    "test_texts, test_labels = test_df['text'], test_df['label']"
   ]
  },
  {
   "cell_type": "code",
   "execution_count": 50,
   "id": "4287ab93",
   "metadata": {},
   "outputs": [
    {
     "data": {
      "text/plain": [
       "1860    [the, verdict, spine, chilling, drama, from, h...\n",
       "353     [the, caliber, killer, has, struck, again, sta...\n",
       "1333    [in, the, company, of, men, made, splash, at, ...\n",
       "905     [in, the, year, captain, leo, davidson, mark, ...\n",
       "1289    [note, that, followups, are, directed, to, rec...\n",
       "                              ...                        \n",
       "1917    [plot, dude, and, his, brother, are, driving, ...\n",
       "753     [bruce, willis, needs, to, stay, away, from, s...\n",
       "498     [think, we, should, as, responsible, citizens,...\n",
       "1276    [living, out, loud, is, the, type, of, motion,...\n",
       "1325    [remember, hearing, about, this, film, when, i...\n",
       "Name: text, Length: 1400, dtype: object"
      ]
     },
     "execution_count": 50,
     "metadata": {},
     "output_type": "execute_result"
    }
   ],
   "source": [
    "# simple tokenizer\n",
    "import re\n",
    "\n",
    "def tokenize(texts, lower= True, token_pattern =r\"(?i)\\b[a-z]{2,}\\b\" ) -> pd.Series:\n",
    "    texts = pd.Series(texts)\n",
    "    if lower: texts = texts.str.lower()\n",
    "        \n",
    "    tokenizer = re.compile(token_pattern)\n",
    "    return texts.apply(tokenizer.findall)\n",
    "\n",
    "train_texts_tokenized = tokenize(train_texts)\n",
    "train_texts_tokenized"
   ]
  },
  {
   "cell_type": "markdown",
   "id": "3b324bde",
   "metadata": {},
   "source": [
    "## [3.1.2] Manual solution"
   ]
  },
  {
   "cell_type": "code",
   "execution_count": null,
   "id": "2832d4d2",
   "metadata": {},
   "outputs": [],
   "source": [
    "def word_counter(text_tokenized) -> pd.DataFrame:\n",
    "    term_counts = pd.DataFrame(columns = ['doc','term','count'])\n",
    "    \n",
    "    \n",
    "    "
   ]
  }
 ],
 "metadata": {
  "kernelspec": {
   "display_name": "Python 3 (ipykernel)",
   "language": "python",
   "name": "python3"
  },
  "language_info": {
   "codemirror_mode": {
    "name": "ipython",
    "version": 3
   },
   "file_extension": ".py",
   "mimetype": "text/x-python",
   "name": "python",
   "nbconvert_exporter": "python",
   "pygments_lexer": "ipython3",
   "version": "3.9.13"
  }
 },
 "nbformat": 4,
 "nbformat_minor": 5
}
