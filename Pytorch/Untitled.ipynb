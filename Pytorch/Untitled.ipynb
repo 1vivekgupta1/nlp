{
 "cells": [
  {
   "cell_type": "markdown",
   "id": "3910592f",
   "metadata": {},
   "source": [
    "# Tensors\n",
    "\n",
    "**Tensors are specialized data structure that are very similar to arrays and matrices. In Pytorch, we use tensors to encodde the inputs and outputs.**\n",
    "\n",
    "\n",
    "Tensors are similar to NumPys ndarrays, except that tensors can run on GPUs or other hardwares accelerators.Tensors are also optimzed for automatic differentiation."
   ]
  },
  {
   "cell_type": "code",
   "execution_count": 1,
   "id": "0c06f770",
   "metadata": {},
   "outputs": [],
   "source": [
    "import torch\n",
    "import numpy as np"
   ]
  },
  {
   "cell_type": "markdown",
   "id": "393fc077",
   "metadata": {},
   "source": [
    "## Initializing Tensor\n",
    "\n",
    "### Tensors are initializes in two ways\n",
    "1. Directly from data"
   ]
  },
  {
   "cell_type": "code",
   "execution_count": 2,
   "id": "cc90de21",
   "metadata": {},
   "outputs": [],
   "source": [
    "data = [[1,2],[3,4]]\n",
    "x_data = torch.tensor(data)"
   ]
  },
  {
   "cell_type": "markdown",
   "id": "8a358319",
   "metadata": {},
   "source": [
    "### From a NumPy array"
   ]
  },
  {
   "cell_type": "code",
   "execution_count": 3,
   "id": "661e8dcd",
   "metadata": {},
   "outputs": [],
   "source": [
    "np_array = np.array(data)\n",
    "x_np = torch.from_numpy(np_array)"
   ]
  },
  {
   "cell_type": "markdown",
   "id": "77bf8081",
   "metadata": {},
   "source": [
    "### From other Tensor:\n",
    "\n",
    "The new tensor retains the properties(shape,datatype) of the argument tensor, unless explicitly overidden."
   ]
  },
  {
   "cell_type": "code",
   "execution_count": 4,
   "id": "a5aa4142",
   "metadata": {},
   "outputs": [
    {
     "name": "stdout",
     "output_type": "stream",
     "text": [
      "Ones Tensor:\n",
      " tensor([[1, 1],\n",
      "        [1, 1]])\n",
      "\n",
      "Random Tensor: \n",
      " tensor([[0.5588, 0.2239],\n",
      "        [0.0763, 0.0592]])\n",
      "\n"
     ]
    }
   ],
   "source": [
    "x_one = torch.ones_like(x_data)\n",
    "\n",
    "print(f\"Ones Tensor:\\n {x_one}\\n\")\n",
    "\n",
    "x_rand= torch.rand_like(x_data,dtype = torch.float)# overrides the datatype of x_data \n",
    " \n",
    "print(f\"Random Tensor: \\n {x_rand}\\n\")"
   ]
  },
  {
   "cell_type": "markdown",
   "id": "3214b697",
   "metadata": {},
   "source": [
    "### with random or constant values\n",
    "\n",
    "Shape is a tuple of tensor dimensions. In the functions the determines of the output tensor."
   ]
  },
  {
   "cell_type": "code",
   "execution_count": 5,
   "id": "061b1f2b",
   "metadata": {},
   "outputs": [
    {
     "name": "stdout",
     "output_type": "stream",
     "text": [
      "Random Tensor: \n",
      "tensor([[0.4025, 0.2408, 0.1665],\n",
      "        [0.6840, 0.1847, 0.5507]])\n",
      "\n",
      "Ones Tensor: \n",
      "tensor([[1., 1., 1.],\n",
      "        [1., 1., 1.]])\n",
      "\n",
      "Zeroes Tensor: \n",
      "tensor([[0., 0., 0.],\n",
      "        [0., 0., 0.]])\n",
      "\n"
     ]
    }
   ],
   "source": [
    "shape = (2,3,)\n",
    "rand_tensor = torch.rand(shape)\n",
    "ones_tensor = torch.ones(shape)\n",
    "zeroes_tensor = torch.zeros(shape)\n",
    "\n",
    "print(f\"Random Tensor: \\n{rand_tensor}\\n\")\n",
    "print(f\"Ones Tensor: \\n{ones_tensor}\\n\")\n",
    "print(f\"Zeroes Tensor: \\n{zeroes_tensor}\\n\")"
   ]
  },
  {
   "cell_type": "markdown",
   "id": "f8b02f7b",
   "metadata": {},
   "source": [
    "## Attributes of a Tensor\n",
    "\n",
    "Tensor attributes describle their shape, datatype, and the device on which they are stored."
   ]
  },
  {
   "cell_type": "code",
   "execution_count": 6,
   "id": "0cd5a4f5",
   "metadata": {},
   "outputs": [
    {
     "name": "stdout",
     "output_type": "stream",
     "text": [
      "Shape of tensor:torch.Size([3, 4])\n",
      "Datatype tensor is stored on torch.float32\n",
      "Device tensor is stored on :cpu\n"
     ]
    }
   ],
   "source": [
    "tensor = torch.rand(3,4)\n",
    "\n",
    "print(f\"Shape of tensor:{tensor.shape}\")\n",
    "print(f\"Datatype tensor is stored on {tensor.dtype}\" )\n",
    "print(f\"Device tensor is stored on :{tensor.device}\")"
   ]
  },
  {
   "cell_type": "markdown",
   "id": "c0f0e60e",
   "metadata": {},
   "source": [
    "### Operations on Tensors\n",
    "\n",
    "over 1200 tensor operates , including arithmetic, linear algebra, matrix manipulation(trasposing, indexing, slicing),\n",
    "sampling.\n",
    "\n",
    "Each of these operations can be run on the CPU and Accelerator such CUDA, MTIa or XPU\n",
    "\n",
    "By default tensors are created on the CPU. We need to explicity move tensors to the accelator "
   ]
  },
  {
   "cell_type": "code",
   "execution_count": 7,
   "id": "22ddba8d",
   "metadata": {},
   "outputs": [],
   "source": [
    "# We move our tensor to the current accelerator if available\n",
    "if torch.accelerator.is_available():\n",
    "    tensor = tensor.to(torch.accelerator.current_accelerator())"
   ]
  },
  {
   "cell_type": "code",
   "execution_count": 8,
   "id": "c84013f0",
   "metadata": {},
   "outputs": [],
   "source": [
    "# !pip uninstall torch"
   ]
  },
  {
   "cell_type": "code",
   "execution_count": 9,
   "id": "1ebd63ed",
   "metadata": {},
   "outputs": [],
   "source": [
    "# !pip install torch"
   ]
  },
  {
   "cell_type": "code",
   "execution_count": 10,
   "id": "3d7fe190",
   "metadata": {},
   "outputs": [
    {
     "name": "stdout",
     "output_type": "stream",
     "text": [
      "Name: torch\n",
      "Version: 2.6.0\n",
      "Summary: Tensors and Dynamic neural networks in Python with strong GPU acceleration\n",
      "Home-page: https://pytorch.org/\n",
      "Author: PyTorch Team\n",
      "Author-email: packages@pytorch.org\n",
      "License: BSD-3-Clause\n",
      "Location: c:\\users\\acer\\anaconda3\\lib\\site-packages\n",
      "Requires: filelock, fsspec, jinja2, networkx, sympy, typing-extensions\n",
      "Required-by: torchaudio, torchvision\n",
      "Note: you may need to restart the kernel to use updated packages.\n"
     ]
    }
   ],
   "source": [
    "pip show torch"
   ]
  },
  {
   "cell_type": "code",
   "execution_count": null,
   "id": "7a8f55ca",
   "metadata": {},
   "outputs": [],
   "source": [
    "!pip install --upgrade torch torchvision torchaudio\n",
    "\n"
   ]
  },
  {
   "cell_type": "code",
   "execution_count": null,
   "id": "4202fd5a",
   "metadata": {},
   "outputs": [],
   "source": [
    "pip install --upgrade pip"
   ]
  },
  {
   "cell_type": "code",
   "execution_count": null,
   "id": "aecf044e",
   "metadata": {},
   "outputs": [],
   "source": []
  },
  {
   "cell_type": "code",
   "execution_count": null,
   "id": "77224651",
   "metadata": {},
   "outputs": [],
   "source": []
  },
  {
   "cell_type": "code",
   "execution_count": null,
   "id": "f17227e3",
   "metadata": {},
   "outputs": [],
   "source": []
  }
 ],
 "metadata": {
  "kernelspec": {
   "display_name": "Python 3 (ipykernel)",
   "language": "python",
   "name": "python3"
  },
  "language_info": {
   "codemirror_mode": {
    "name": "ipython",
    "version": 3
   },
   "file_extension": ".py",
   "mimetype": "text/x-python",
   "name": "python",
   "nbconvert_exporter": "python",
   "pygments_lexer": "ipython3",
   "version": "3.9.13"
  }
 },
 "nbformat": 4,
 "nbformat_minor": 5
}
