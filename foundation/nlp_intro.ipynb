{
 "cells": [
  {
   "cell_type": "code",
   "execution_count": 1,
   "id": "5976c229",
   "metadata": {
    "scrolled": false
   },
   "outputs": [
    {
     "data": {
      "application/json": {
       "cell": {
        "!": "OSMagics",
        "HTML": "Other",
        "SVG": "Other",
        "bash": "Other",
        "capture": "ExecutionMagics",
        "cmd": "Other",
        "debug": "ExecutionMagics",
        "file": "Other",
        "html": "DisplayMagics",
        "javascript": "DisplayMagics",
        "js": "DisplayMagics",
        "latex": "DisplayMagics",
        "markdown": "DisplayMagics",
        "perl": "Other",
        "prun": "ExecutionMagics",
        "pypy": "Other",
        "python": "Other",
        "python2": "Other",
        "python3": "Other",
        "ruby": "Other",
        "script": "ScriptMagics",
        "sh": "Other",
        "svg": "DisplayMagics",
        "sx": "OSMagics",
        "system": "OSMagics",
        "time": "ExecutionMagics",
        "timeit": "ExecutionMagics",
        "writefile": "OSMagics"
       },
       "line": {
        "alias": "OSMagics",
        "alias_magic": "BasicMagics",
        "autoawait": "AsyncMagics",
        "autocall": "AutoMagics",
        "automagic": "AutoMagics",
        "autosave": "KernelMagics",
        "bookmark": "OSMagics",
        "cd": "OSMagics",
        "clear": "KernelMagics",
        "cls": "KernelMagics",
        "colors": "BasicMagics",
        "conda": "PackagingMagics",
        "config": "ConfigMagics",
        "connect_info": "KernelMagics",
        "copy": "Other",
        "ddir": "Other",
        "debug": "ExecutionMagics",
        "dhist": "OSMagics",
        "dirs": "OSMagics",
        "doctest_mode": "BasicMagics",
        "echo": "Other",
        "ed": "Other",
        "edit": "KernelMagics",
        "env": "OSMagics",
        "gui": "BasicMagics",
        "hist": "Other",
        "history": "HistoryMagics",
        "killbgscripts": "ScriptMagics",
        "ldir": "Other",
        "less": "KernelMagics",
        "load": "CodeMagics",
        "load_ext": "ExtensionMagics",
        "loadpy": "CodeMagics",
        "logoff": "LoggingMagics",
        "logon": "LoggingMagics",
        "logstart": "LoggingMagics",
        "logstate": "LoggingMagics",
        "logstop": "LoggingMagics",
        "ls": "Other",
        "lsmagic": "BasicMagics",
        "macro": "ExecutionMagics",
        "magic": "BasicMagics",
        "matplotlib": "PylabMagics",
        "mkdir": "Other",
        "more": "KernelMagics",
        "notebook": "BasicMagics",
        "page": "BasicMagics",
        "pastebin": "CodeMagics",
        "pdb": "ExecutionMagics",
        "pdef": "NamespaceMagics",
        "pdoc": "NamespaceMagics",
        "pfile": "NamespaceMagics",
        "pinfo": "NamespaceMagics",
        "pinfo2": "NamespaceMagics",
        "pip": "PackagingMagics",
        "popd": "OSMagics",
        "pprint": "BasicMagics",
        "precision": "BasicMagics",
        "prun": "ExecutionMagics",
        "psearch": "NamespaceMagics",
        "psource": "NamespaceMagics",
        "pushd": "OSMagics",
        "pwd": "OSMagics",
        "pycat": "OSMagics",
        "pylab": "PylabMagics",
        "qtconsole": "KernelMagics",
        "quickref": "BasicMagics",
        "recall": "HistoryMagics",
        "rehashx": "OSMagics",
        "reload_ext": "ExtensionMagics",
        "ren": "Other",
        "rep": "Other",
        "rerun": "HistoryMagics",
        "reset": "NamespaceMagics",
        "reset_selective": "NamespaceMagics",
        "rmdir": "Other",
        "run": "ExecutionMagics",
        "save": "CodeMagics",
        "sc": "OSMagics",
        "set_env": "OSMagics",
        "store": "StoreMagics",
        "sx": "OSMagics",
        "system": "OSMagics",
        "tb": "ExecutionMagics",
        "time": "ExecutionMagics",
        "timeit": "ExecutionMagics",
        "unalias": "OSMagics",
        "unload_ext": "ExtensionMagics",
        "who": "NamespaceMagics",
        "who_ls": "NamespaceMagics",
        "whos": "NamespaceMagics",
        "xdel": "NamespaceMagics",
        "xmode": "BasicMagics"
       }
      },
      "text/plain": [
       "Available line magics:\n",
       "%alias  %alias_magic  %autoawait  %autocall  %automagic  %autosave  %bookmark  %cd  %clear  %cls  %colors  %conda  %config  %connect_info  %copy  %ddir  %debug  %dhist  %dirs  %doctest_mode  %echo  %ed  %edit  %env  %gui  %hist  %history  %killbgscripts  %ldir  %less  %load  %load_ext  %loadpy  %logoff  %logon  %logstart  %logstate  %logstop  %ls  %lsmagic  %macro  %magic  %matplotlib  %mkdir  %more  %notebook  %page  %pastebin  %pdb  %pdef  %pdoc  %pfile  %pinfo  %pinfo2  %pip  %popd  %pprint  %precision  %prun  %psearch  %psource  %pushd  %pwd  %pycat  %pylab  %qtconsole  %quickref  %recall  %rehashx  %reload_ext  %ren  %rep  %rerun  %reset  %reset_selective  %rmdir  %run  %save  %sc  %set_env  %store  %sx  %system  %tb  %time  %timeit  %unalias  %unload_ext  %who  %who_ls  %whos  %xdel  %xmode\n",
       "\n",
       "Available cell magics:\n",
       "%%!  %%HTML  %%SVG  %%bash  %%capture  %%cmd  %%debug  %%file  %%html  %%javascript  %%js  %%latex  %%markdown  %%perl  %%prun  %%pypy  %%python  %%python2  %%python3  %%ruby  %%script  %%sh  %%svg  %%sx  %%system  %%time  %%timeit  %%writefile\n",
       "\n",
       "Automagic is ON, % prefix IS NOT needed for line magics."
      ]
     },
     "execution_count": 1,
     "metadata": {},
     "output_type": "execute_result"
    }
   ],
   "source": [
    "%lsmagic"
   ]
  },
  {
   "cell_type": "code",
   "execution_count": 2,
   "id": "84e04943",
   "metadata": {},
   "outputs": [],
   "source": [
    "# Magic commands generally known as magic function which are \n",
    "# special cammands in IPython that provide special functionalites\n",
    "# to users like modifying the behavior of a code cell explicitly\n",
    "# ,simplifying common tasks like timming code execution"
   ]
  },
  {
   "cell_type": "code",
   "execution_count": 3,
   "id": "b977eb32",
   "metadata": {},
   "outputs": [
    {
     "name": "stdout",
     "output_type": "stream",
     "text": [
      "C:\\Users\\acer\n"
     ]
    }
   ],
   "source": [
    "%cd"
   ]
  },
  {
   "cell_type": "code",
   "execution_count": null,
   "id": "9175e59c",
   "metadata": {},
   "outputs": [],
   "source": []
  },
  {
   "cell_type": "code",
   "execution_count": 4,
   "id": "ba722f73",
   "metadata": {},
   "outputs": [
    {
     "name": "stdout",
     "output_type": "stream",
     "text": [
      "Total number of aliases: 8\n"
     ]
    },
    {
     "data": {
      "text/plain": [
       "[('copy', 'copy'),\n",
       " ('ddir', 'dir /ad /on'),\n",
       " ('echo', 'echo'),\n",
       " ('ldir', 'dir /ad /on'),\n",
       " ('ls', 'dir /on'),\n",
       " ('mkdir', 'mkdir'),\n",
       " ('ren', 'ren'),\n",
       " ('rmdir', 'rmdir')]"
      ]
     },
     "execution_count": 4,
     "metadata": {},
     "output_type": "execute_result"
    }
   ],
   "source": [
    "%alias\n"
   ]
  },
  {
   "cell_type": "code",
   "execution_count": 5,
   "id": "98c7557c",
   "metadata": {},
   "outputs": [
    {
     "name": "stdout",
     "output_type": "stream",
     "text": [
      "hello world\n",
      "Wall time: 0 ns\n"
     ]
    }
   ],
   "source": [
    "%time print(\"hello world\")"
   ]
  },
  {
   "cell_type": "markdown",
   "id": "199eadb4",
   "metadata": {},
   "source": [
    "# Jupyter Notebook"
   ]
  },
  {
   "cell_type": "markdown",
   "id": "e7fad599",
   "metadata": {},
   "source": [
    "## Thanks to notebook, we can use in one document:\n",
    "\n",
    "* execution,\n",
    "* formatted text, HTML markup, Latex set, imagery"
   ]
  },
  {
   "cell_type": "markdown",
   "id": "e37668f8",
   "metadata": {},
   "source": [
    "# [1] Python\n",
    "\n",
    "Our main tool is the Python language and libraries for working with data. It is expected that you are familiar with this, but you can always improve your knowledge, for example,here\n",
    "\n",
    "2. Python syntac on Pythontutor.ru"
   ]
  },
  {
   "cell_type": "markdown",
   "id": "5ee6ce37",
   "metadata": {},
   "source": [
    "## [1.1] Python Lists "
   ]
  },
  {
   "cell_type": "markdown",
   "id": "8995dae5",
   "metadata": {},
   "source": [
    "###  Lists\n"
   ]
  },
  {
   "cell_type": "code",
   "execution_count": 6,
   "id": "0d41fe22",
   "metadata": {},
   "outputs": [
    {
     "data": {
      "text/plain": [
       "[0, 1.1, 'ok']"
      ]
     },
     "execution_count": 6,
     "metadata": {},
     "output_type": "execute_result"
    }
   ],
   "source": [
    "a = [0,1.1,'ok']\n",
    "a\n"
   ]
  },
  {
   "cell_type": "code",
   "execution_count": 7,
   "id": "94d4c194",
   "metadata": {},
   "outputs": [
    {
     "data": {
      "text/plain": [
       "[0, 1.1, 'ok', 'qwerty']"
      ]
     },
     "execution_count": 7,
     "metadata": {},
     "output_type": "execute_result"
    }
   ],
   "source": [
    "#  add list\n",
    "a+['qwerty']"
   ]
  },
  {
   "cell_type": "code",
   "execution_count": 8,
   "id": "7841ac99",
   "metadata": {},
   "outputs": [
    {
     "data": {
      "text/plain": [
       "[0, 1.1, 'ok', 0, 1.1, 'ok', 0, 1.1, 'ok']"
      ]
     },
     "execution_count": 8,
     "metadata": {},
     "output_type": "execute_result"
    }
   ],
   "source": [
    "# multiply with number\n",
    "a*3"
   ]
  },
  {
   "cell_type": "markdown",
   "id": "48f871fb",
   "metadata": {},
   "source": [
    "### Cycles"
   ]
  },
  {
   "cell_type": "code",
   "execution_count": 9,
   "id": "ce1a54b1",
   "metadata": {},
   "outputs": [
    {
     "name": "stdout",
     "output_type": "stream",
     "text": [
      "0\n",
      "1\n",
      "2\n"
     ]
    }
   ],
   "source": [
    "for i in range(3):\n",
    "    print(i)\n"
   ]
  },
  {
   "cell_type": "code",
   "execution_count": 10,
   "id": "11d221ec",
   "metadata": {},
   "outputs": [
    {
     "data": {
      "text/plain": [
       "range(0, 3)"
      ]
     },
     "execution_count": 10,
     "metadata": {},
     "output_type": "execute_result"
    }
   ],
   "source": [
    "#  Loop is itereble, but not list\n",
    "range(3)"
   ]
  },
  {
   "cell_type": "code",
   "execution_count": 11,
   "id": "05ac65c1",
   "metadata": {},
   "outputs": [
    {
     "data": {
      "text/plain": [
       "[2, 4, 6]"
      ]
     },
     "execution_count": 11,
     "metadata": {},
     "output_type": "execute_result"
    }
   ],
   "source": [
    "# any iter can be converted to a list\n",
    "b = list(range(2,8,2))\n",
    "b"
   ]
  },
  {
   "cell_type": "code",
   "execution_count": 12,
   "id": "8c266175",
   "metadata": {},
   "outputs": [
    {
     "data": {
      "text/plain": [
       "[8, 7, 6, 5, 4, 3]"
      ]
     },
     "execution_count": 12,
     "metadata": {},
     "output_type": "execute_result"
    }
   ],
   "source": [
    "#  list comprehension\n",
    "b = [i for i in range(8,2,-1)]\n",
    "b"
   ]
  },
  {
   "cell_type": "markdown",
   "id": "adbc031c",
   "metadata": {},
   "source": [
    "### Indices"
   ]
  },
  {
   "cell_type": "code",
   "execution_count": 13,
   "id": "48176aa7",
   "metadata": {},
   "outputs": [
    {
     "data": {
      "text/plain": [
       "[7, 5, 9, 3, 1, 2, 6, 8]"
      ]
     },
     "execution_count": 13,
     "metadata": {},
     "output_type": "execute_result"
    }
   ],
   "source": [
    "c = [7,5,9,3,1,2,6,8]\n",
    "c"
   ]
  },
  {
   "cell_type": "code",
   "execution_count": 14,
   "id": "3e4b7a68",
   "metadata": {},
   "outputs": [
    {
     "data": {
      "text/plain": [
       "(7, 9, 5, 5)"
      ]
     },
     "execution_count": 14,
     "metadata": {},
     "output_type": "execute_result"
    }
   ],
   "source": [
    "c[0],c[2],c[1],c[1]"
   ]
  },
  {
   "cell_type": "code",
   "execution_count": 15,
   "id": "989768c8",
   "metadata": {},
   "outputs": [
    {
     "data": {
      "text/plain": [
       "(8, 6)"
      ]
     },
     "execution_count": 15,
     "metadata": {},
     "output_type": "execute_result"
    }
   ],
   "source": [
    "c[-1],c[-2]"
   ]
  },
  {
   "cell_type": "markdown",
   "id": "ec2bc3b0",
   "metadata": {},
   "source": [
    "### Slicers"
   ]
  },
  {
   "cell_type": "code",
   "execution_count": 16,
   "id": "3c43b67c",
   "metadata": {},
   "outputs": [
    {
     "data": {
      "text/plain": [
       "[7, 5, 9]"
      ]
     },
     "execution_count": 16,
     "metadata": {},
     "output_type": "execute_result"
    }
   ],
   "source": [
    "[c[i] for i in range(0,3)]"
   ]
  },
  {
   "cell_type": "code",
   "execution_count": 17,
   "id": "0d80b493",
   "metadata": {},
   "outputs": [
    {
     "data": {
      "text/plain": [
       "[7, 5, 9]"
      ]
     },
     "execution_count": 17,
     "metadata": {},
     "output_type": "execute_result"
    }
   ],
   "source": [
    "c[:3]# c[0:3]"
   ]
  },
  {
   "cell_type": "code",
   "execution_count": 18,
   "id": "f098642f",
   "metadata": {},
   "outputs": [
    {
     "data": {
      "text/plain": [
       "8"
      ]
     },
     "execution_count": 18,
     "metadata": {},
     "output_type": "execute_result"
    }
   ],
   "source": [
    "len(c)# length of list c\n"
   ]
  },
  {
   "cell_type": "code",
   "execution_count": 19,
   "id": "5efeb115",
   "metadata": {},
   "outputs": [
    {
     "data": {
      "text/plain": [
       "[3, 1, 2, 6, 8]"
      ]
     },
     "execution_count": 19,
     "metadata": {},
     "output_type": "execute_result"
    }
   ],
   "source": [
    "[c[i] for i in range(3,len(c))]"
   ]
  },
  {
   "cell_type": "code",
   "execution_count": 20,
   "id": "ac0cca8a",
   "metadata": {},
   "outputs": [
    {
     "data": {
      "text/plain": [
       "([3, 1, 2, 6, 8], [8, 6, 2, 1, 3, 9, 5, 7], [8, 6, 2, 1, 3])"
      ]
     },
     "execution_count": 20,
     "metadata": {},
     "output_type": "execute_result"
    }
   ],
   "source": [
    "c[3:],c[::-1], c[:2:-1]"
   ]
  },
  {
   "cell_type": "markdown",
   "id": "6ddd4bfe",
   "metadata": {},
   "source": [
    "### *args"
   ]
  },
  {
   "cell_type": "code",
   "execution_count": 21,
   "id": "4c8f3579",
   "metadata": {},
   "outputs": [
    {
     "name": "stdout",
     "output_type": "stream",
     "text": [
      "[0, 1.1, 'ok'] [8, 7, 6, 5, 4, 3] [7, 5, 9, 3, 1, 2, 6, 8]\n"
     ]
    }
   ],
   "source": [
    "print(a,b,c)"
   ]
  },
  {
   "cell_type": "code",
   "execution_count": 22,
   "id": "712599be",
   "metadata": {},
   "outputs": [
    {
     "name": "stdout",
     "output_type": "stream",
     "text": [
      "0 1.1 ok [8, 7, 6, 5, 4, 3] 7 5 9 3 1 2 6 8\n"
     ]
    }
   ],
   "source": [
    "print(*a,b,*c)"
   ]
  },
  {
   "cell_type": "code",
   "execution_count": 23,
   "id": "d8c75d05",
   "metadata": {},
   "outputs": [
    {
     "data": {
      "text/plain": [
       "[(0, 8, 7), (1.1, 7, 5), ('ok', 6, 9)]"
      ]
     },
     "execution_count": 23,
     "metadata": {},
     "output_type": "execute_result"
    }
   ],
   "source": [
    "list(zip(a,b,c))"
   ]
  },
  {
   "cell_type": "markdown",
   "id": "adb99443",
   "metadata": {},
   "source": [
    "### 2D-lists"
   ]
  },
  {
   "cell_type": "code",
   "execution_count": 24,
   "id": "25a6e567",
   "metadata": {},
   "outputs": [
    {
     "data": {
      "text/plain": [
       "[[1, 2, 3], [4, 5, 6]]"
      ]
     },
     "execution_count": 24,
     "metadata": {},
     "output_type": "execute_result"
    }
   ],
   "source": [
    "d = [[1,2,3],[4,5,6]]\n",
    "d"
   ]
  },
  {
   "cell_type": "code",
   "execution_count": 25,
   "id": "cae3f152",
   "metadata": {},
   "outputs": [
    {
     "data": {
      "text/plain": [
       "[1, 2, 3]"
      ]
     },
     "execution_count": 25,
     "metadata": {},
     "output_type": "execute_result"
    }
   ],
   "source": [
    "d[0]"
   ]
  },
  {
   "cell_type": "code",
   "execution_count": 26,
   "id": "f973d0e4",
   "metadata": {},
   "outputs": [
    {
     "data": {
      "text/plain": [
       "1"
      ]
     },
     "execution_count": 26,
     "metadata": {},
     "output_type": "execute_result"
    }
   ],
   "source": [
    "(d[0])[0]"
   ]
  },
  {
   "cell_type": "code",
   "execution_count": 27,
   "id": "08235f0a",
   "metadata": {},
   "outputs": [
    {
     "name": "stdout",
     "output_type": "stream",
     "text": [
      "[1, 2, 3]\n",
      "[4, 5, 6]\n"
     ]
    }
   ],
   "source": [
    "# looping through the loop\n",
    "for x in d:\n",
    "    print(x)"
   ]
  },
  {
   "cell_type": "code",
   "execution_count": 28,
   "id": "0608bf29",
   "metadata": {},
   "outputs": [
    {
     "data": {
      "text/plain": [
       "[(1, 4), (2, 5), (3, 6)]"
      ]
     },
     "execution_count": 28,
     "metadata": {},
     "output_type": "execute_result"
    }
   ],
   "source": [
    "d_transpose = list(zip(*d))\n",
    "d_transpose"
   ]
  },
  {
   "cell_type": "markdown",
   "id": "d8530668",
   "metadata": {},
   "source": [
    "## [1.2] NumPy Array"
   ]
  },
  {
   "cell_type": "markdown",
   "id": "f347ec98",
   "metadata": {},
   "source": [
    "### list -> Arrays\n"
   ]
  },
  {
   "cell_type": "code",
   "execution_count": 29,
   "id": "45afadf2",
   "metadata": {},
   "outputs": [],
   "source": [
    "import numpy as np"
   ]
  },
  {
   "cell_type": "code",
   "execution_count": 30,
   "id": "238b82d5",
   "metadata": {},
   "outputs": [
    {
     "data": {
      "text/plain": [
       "(array(['0', '1.1', 'ok'], dtype='<U32'),\n",
       " array([8, 7, 6, 5, 4, 3]),\n",
       " array([7, 5, 9, 3, 1, 2, 6, 8]),\n",
       " array([[1, 2, 3],\n",
       "        [4, 5, 6]]))"
      ]
     },
     "execution_count": 30,
     "metadata": {},
     "output_type": "execute_result"
    }
   ],
   "source": [
    "# converting list to array\n",
    "a2 = np.array(a)\n",
    "b2 = np.array(b)\n",
    "c2 = np.array(c)\n",
    "d2= np.array(d)\n",
    "a2,b2,c2,d2"
   ]
  },
  {
   "cell_type": "code",
   "execution_count": 31,
   "id": "306bd0f2",
   "metadata": {},
   "outputs": [
    {
     "name": "stdout",
     "output_type": "stream",
     "text": [
      "[1 2 3]\n",
      "[4 5 6]\n"
     ]
    }
   ],
   "source": [
    "# looping\n",
    "for x in d2:\n",
    "    print(x)"
   ]
  },
  {
   "cell_type": "code",
   "execution_count": 32,
   "id": "9fd25a10",
   "metadata": {},
   "outputs": [
    {
     "data": {
      "text/plain": [
       "2"
      ]
     },
     "execution_count": 32,
     "metadata": {},
     "output_type": "execute_result"
    }
   ],
   "source": [
    "len(d2)"
   ]
  },
  {
   "cell_type": "code",
   "execution_count": 33,
   "id": "e7ebbe85",
   "metadata": {},
   "outputs": [
    {
     "data": {
      "text/plain": [
       "((2, 3), 6)"
      ]
     },
     "execution_count": 33,
     "metadata": {},
     "output_type": "execute_result"
    }
   ],
   "source": [
    "# dimension and size\n",
    "d2.shape, d2.size"
   ]
  },
  {
   "cell_type": "code",
   "execution_count": 34,
   "id": "f5abd4e0",
   "metadata": {},
   "outputs": [
    {
     "data": {
      "text/plain": [
       "3"
      ]
     },
     "execution_count": 34,
     "metadata": {},
     "output_type": "execute_result"
    }
   ],
   "source": [
    "# multidimensional indexes\n",
    "d2[0, -1]"
   ]
  },
  {
   "cell_type": "code",
   "execution_count": 35,
   "id": "7e96e9b5",
   "metadata": {},
   "outputs": [
    {
     "data": {
      "text/plain": [
       "array([[1, 2, 3]])"
      ]
     },
     "execution_count": 35,
     "metadata": {},
     "output_type": "execute_result"
    }
   ],
   "source": [
    "# slices\n",
    "d2[:1]"
   ]
  },
  {
   "cell_type": "code",
   "execution_count": 36,
   "id": "636bb9c6",
   "metadata": {},
   "outputs": [
    {
     "data": {
      "text/plain": [
       "array([[2, 3],\n",
       "       [5, 6]])"
      ]
     },
     "execution_count": 36,
     "metadata": {},
     "output_type": "execute_result"
    }
   ],
   "source": [
    "#  multidimensional slices\n",
    "d2[:,-2:]"
   ]
  },
  {
   "cell_type": "code",
   "execution_count": 37,
   "id": "6b67b2d5",
   "metadata": {},
   "outputs": [
    {
     "data": {
      "text/plain": [
       "array([8, 7, 6, 5, 4, 3])"
      ]
     },
     "execution_count": 37,
     "metadata": {},
     "output_type": "execute_result"
    }
   ],
   "source": [
    "# fewer cycles are better\n",
    "# b = [i for i in range(8,2-1)]\n",
    "b2 = np.arange(8,2,-1)\n",
    "b2"
   ]
  },
  {
   "cell_type": "markdown",
   "id": "a27389bf",
   "metadata": {},
   "source": [
    "### Operation -> [Broadcasting](https://numpy.org/doc/stable/user/basics.broadcasting.html)"
   ]
  },
  {
   "cell_type": "markdown",
   "id": "def1b470",
   "metadata": {},
   "source": [
    "![image.png](data:image/png;base64,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)"
   ]
  },
  {
   "cell_type": "code",
   "execution_count": 38,
   "id": "641faf41",
   "metadata": {},
   "outputs": [
    {
     "data": {
      "text/plain": [
       "array([[1, 2, 3],\n",
       "       [4, 5, 6]])"
      ]
     },
     "execution_count": 38,
     "metadata": {},
     "output_type": "execute_result"
    }
   ],
   "source": [
    "# 2- dimensional array\n",
    "d2"
   ]
  },
  {
   "cell_type": "code",
   "execution_count": 39,
   "id": "8ec46652",
   "metadata": {},
   "outputs": [],
   "source": [
    "# 2- dimensional + 0- dimensional "
   ]
  },
  {
   "cell_type": "code",
   "execution_count": 40,
   "id": "81d655ae",
   "metadata": {},
   "outputs": [
    {
     "data": {
      "text/plain": [
       "array([[2, 3, 4],\n",
       "       [5, 6, 7]])"
      ]
     },
     "execution_count": 40,
     "metadata": {},
     "output_type": "execute_result"
    }
   ],
   "source": [
    "d2+1"
   ]
  },
  {
   "cell_type": "code",
   "execution_count": 41,
   "id": "72fdc2ce",
   "metadata": {},
   "outputs": [
    {
     "data": {
      "text/plain": [
       "array([[1, 3, 0],\n",
       "       [4, 6, 3]])"
      ]
     },
     "execution_count": 41,
     "metadata": {},
     "output_type": "execute_result"
    }
   ],
   "source": [
    "# 2-dimensional + 1-dimensional\n",
    "d2 + [0,1,-3]"
   ]
  },
  {
   "cell_type": "code",
   "execution_count": 42,
   "id": "aeb683eb",
   "metadata": {},
   "outputs": [
    {
     "data": {
      "text/plain": [
       "array([[ 1,  2,  3],\n",
       "       [11, 12, 13],\n",
       "       [21, 22, 23],\n",
       "       [31, 32, 33]])"
      ]
     },
     "execution_count": 42,
     "metadata": {},
     "output_type": "execute_result"
    }
   ],
   "source": [
    "# columns + row\n",
    "np.array([[0],[10],[20],[30]])+np.array([[1,2,3]])"
   ]
  },
  {
   "cell_type": "markdown",
   "id": "03b69ca9",
   "metadata": {},
   "source": [
    "![image.png](data:image/png;base64,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)"
   ]
  },
  {
   "cell_type": "code",
   "execution_count": 43,
   "id": "6212f1b6",
   "metadata": {},
   "outputs": [
    {
     "data": {
      "text/plain": [
       "(6, array([1, 4]), array([2, 2], dtype=int64))"
      ]
     },
     "execution_count": 43,
     "metadata": {},
     "output_type": "execute_result"
    }
   ],
   "source": [
    "# statistics (can be taken along axis)\n",
    "d2.max(),d2.min(axis = 1),d2.argmax(axis =1)"
   ]
  },
  {
   "cell_type": "code",
   "execution_count": 44,
   "id": "3838078a",
   "metadata": {},
   "outputs": [
    {
     "data": {
      "text/plain": [
       "array([[  2.71828183,   7.3890561 ,  20.08553692],\n",
       "       [ 54.59815003, 148.4131591 , 403.42879349]])"
      ]
     },
     "execution_count": 44,
     "metadata": {},
     "output_type": "execute_result"
    }
   ],
   "source": [
    "# Mathematical operation\n",
    "np.log(d2)\n",
    "np.sin(d2)\n",
    "np.exp(d2)"
   ]
  },
  {
   "cell_type": "markdown",
   "id": "75e9e52c",
   "metadata": {},
   "source": [
    "### Views\n"
   ]
  },
  {
   "cell_type": "code",
   "execution_count": 45,
   "id": "4a29a69f",
   "metadata": {},
   "outputs": [
    {
     "data": {
      "text/plain": [
       "(array([[1., 2., 3.],\n",
       "        [4., 5., 6.]]),\n",
       " array([[1, 2, 3],\n",
       "        [4, 5, 6]], dtype=int8),\n",
       " array([[1, 2, 3],\n",
       "        [4, 5, 6]], dtype=int8))"
      ]
     },
     "execution_count": 45,
     "metadata": {},
     "output_type": "execute_result"
    }
   ],
   "source": [
    "# change of type\n",
    "d2.astype(float),d2.astype(np.int8),d2.astype('int8')"
   ]
  },
  {
   "cell_type": "code",
   "execution_count": 46,
   "id": "76e97c34",
   "metadata": {},
   "outputs": [
    {
     "data": {
      "text/plain": [
       "(array([1, 2, 3, 4, 5, 6]),\n",
       " array([[1, 2, 3, 4, 5, 6]]),\n",
       " array([[1, 2, 3, 4, 5, 6]]))"
      ]
     },
     "execution_count": 46,
     "metadata": {},
     "output_type": "execute_result"
    }
   ],
   "source": [
    "# Pulling into a line and changing dimension(explicit and implicit)\n",
    "d2.ravel(),d2.reshape(1,6),d2.reshape(1,-1)"
   ]
  },
  {
   "cell_type": "code",
   "execution_count": 47,
   "id": "57daa5c3",
   "metadata": {},
   "outputs": [
    {
     "data": {
      "text/plain": [
       "array([[1, 2],\n",
       "       [3, 4],\n",
       "       [5, 6]])"
      ]
     },
     "execution_count": 47,
     "metadata": {},
     "output_type": "execute_result"
    }
   ],
   "source": [
    "# change of dimension~ cutting by 3\n",
    "d2.reshape(3,-1)"
   ]
  },
  {
   "cell_type": "code",
   "execution_count": 48,
   "id": "d852f167",
   "metadata": {},
   "outputs": [
    {
     "data": {
      "text/plain": [
       "((2, 3, 1), (2, 3, 1), (2, 3, 1))"
      ]
     },
     "execution_count": 48,
     "metadata": {},
     "output_type": "execute_result"
    }
   ],
   "source": [
    "# adding dimension\n",
    "d2.reshape(2,3,1).shape, d2[:,:,None].shape, d2[...,None].shape"
   ]
  },
  {
   "cell_type": "code",
   "execution_count": 49,
   "id": "43303595",
   "metadata": {},
   "outputs": [
    {
     "data": {
      "text/plain": [
       "array([[1, 4],\n",
       "       [2, 5],\n",
       "       [3, 6]])"
      ]
     },
     "execution_count": 49,
     "metadata": {},
     "output_type": "execute_result"
    }
   ],
   "source": [
    "# permtution of dimension\n",
    "np.transpose(d2,(1,0))"
   ]
  },
  {
   "cell_type": "code",
   "execution_count": 50,
   "id": "b1907b12",
   "metadata": {},
   "outputs": [
    {
     "data": {
      "text/plain": [
       "array([[1, 4],\n",
       "       [2, 5],\n",
       "       [3, 6]])"
      ]
     },
     "execution_count": 50,
     "metadata": {},
     "output_type": "execute_result"
    }
   ],
   "source": [
    "# tranpose reverse order of dimension\n",
    "d2.T # = np.transpose(x,(n-1,n-2,...,0))"
   ]
  },
  {
   "cell_type": "markdown",
   "id": "75b54c44",
   "metadata": {},
   "source": [
    "### Special martices"
   ]
  },
  {
   "cell_type": "code",
   "execution_count": 51,
   "id": "5d37e52d",
   "metadata": {},
   "outputs": [
    {
     "data": {
      "text/plain": [
       "array([[1., 1., 1.],\n",
       "       [1., 1., 1.]])"
      ]
     },
     "execution_count": 51,
     "metadata": {},
     "output_type": "execute_result"
    }
   ],
   "source": [
    "# 2x3 matices of ones\n",
    "np.ones((2,3))"
   ]
  },
  {
   "cell_type": "code",
   "execution_count": 52,
   "id": "ee596fda",
   "metadata": {},
   "outputs": [
    {
     "data": {
      "text/plain": [
       "array([[0., 0., 0.],\n",
       "       [0., 0., 0.]])"
      ]
     },
     "execution_count": 52,
     "metadata": {},
     "output_type": "execute_result"
    }
   ],
   "source": [
    "# 2x3 matrics of zeroes\n",
    "np.zeros((2,3))"
   ]
  },
  {
   "cell_type": "code",
   "execution_count": 53,
   "id": "16f1fba8",
   "metadata": {},
   "outputs": [
    {
     "data": {
      "text/plain": [
       "array([[1., 0., 0.],\n",
       "       [0., 1., 0.],\n",
       "       [0., 0., 1.]])"
      ]
     },
     "execution_count": 53,
     "metadata": {},
     "output_type": "execute_result"
    }
   ],
   "source": [
    "# 3x3 identity matrices because eye sounds like \"I\"\n",
    "np.eye(3)"
   ]
  },
  {
   "cell_type": "code",
   "execution_count": 54,
   "id": "70903252",
   "metadata": {},
   "outputs": [
    {
     "data": {
      "text/plain": [
       "array([[8, 0, 0, 0, 0, 0],\n",
       "       [0, 7, 0, 0, 0, 0],\n",
       "       [0, 0, 6, 0, 0, 0],\n",
       "       [0, 0, 0, 5, 0, 0],\n",
       "       [0, 0, 0, 0, 4, 0],\n",
       "       [0, 0, 0, 0, 0, 3]])"
      ]
     },
     "execution_count": 54,
     "metadata": {},
     "output_type": "execute_result"
    }
   ],
   "source": [
    "# diagonal matrix from vector b\n",
    "np.diag(b)"
   ]
  },
  {
   "cell_type": "code",
   "execution_count": 55,
   "id": "9811bbd4",
   "metadata": {},
   "outputs": [
    {
     "data": {
      "text/plain": [
       "array([[0.23740102, 0.1231118 , 0.4281109 ],\n",
       "       [0.06113571, 0.22392939, 0.53578355]])"
      ]
     },
     "execution_count": 55,
     "metadata": {},
     "output_type": "execute_result"
    }
   ],
   "source": [
    "# 2x3 matrix of random numbers of uniform distribution [0, 1)\n",
    "np.random.rand(2,3)"
   ]
  },
  {
   "cell_type": "code",
   "execution_count": 56,
   "id": "b533e9f2",
   "metadata": {},
   "outputs": [
    {
     "data": {
      "text/plain": [
       "array([[0.23740102, 0.1231118 ],\n",
       "       [0.4281109 , 0.06113571],\n",
       "       [0.22392939, 0.53578355]])"
      ]
     },
     "execution_count": 56,
     "metadata": {},
     "output_type": "execute_result"
    }
   ],
   "source": [
    "# allocating unused memory for 3x2 matrix\n",
    "np.empty((3,2))"
   ]
  },
  {
   "cell_type": "code",
   "execution_count": 57,
   "id": "e7cab9b6",
   "metadata": {},
   "outputs": [
    {
     "data": {
      "text/plain": [
       "array([[0.23740102, 0.1231118 , 0.4281109 ],\n",
       "       [0.06113571, 0.22392939, 0.53578355]])"
      ]
     },
     "execution_count": 57,
     "metadata": {},
     "output_type": "execute_result"
    }
   ],
   "source": [
    "# similar memory allocation\n",
    "empty = np.empty_like(d2,dtype=float)\n",
    "empty"
   ]
  },
  {
   "cell_type": "code",
   "execution_count": 58,
   "id": "1bf1207b",
   "metadata": {},
   "outputs": [
    {
     "data": {
      "text/plain": [
       "array([[1, 2, 3],\n",
       "       [4, 5, 6]])"
      ]
     },
     "execution_count": 58,
     "metadata": {},
     "output_type": "execute_result"
    }
   ],
   "source": [
    "d2"
   ]
  },
  {
   "cell_type": "code",
   "execution_count": 59,
   "id": "f5c286c7",
   "metadata": {},
   "outputs": [
    {
     "data": {
      "text/plain": [
       "array([[  2.71828183,   7.3890561 ,  20.08553692],\n",
       "       [ 54.59815003, 148.4131591 , 403.42879349]])"
      ]
     },
     "execution_count": 59,
     "metadata": {},
     "output_type": "execute_result"
    }
   ],
   "source": [
    "# save the result to a alocated memory\n",
    "np.exp(d2,out=empty)\n",
    "empty\n"
   ]
  },
  {
   "cell_type": "markdown",
   "id": "2018b341",
   "metadata": {},
   "source": [
    "## [1.3] [PyTorch](https://pytorch.org/get-started/locally/) Tensors"
   ]
  },
  {
   "cell_type": "markdown",
   "id": "67fcbf7e",
   "metadata": {},
   "source": [
    "### List -> Array -> Tensor"
   ]
  },
  {
   "cell_type": "code",
   "execution_count": 60,
   "id": "151ca729",
   "metadata": {},
   "outputs": [
    {
     "name": "stdout",
     "output_type": "stream",
     "text": [
      "Requirement already satisfied: torch in c:\\users\\acer\\anaconda3\\lib\\site-packages (2.5.1)\n",
      "Requirement already satisfied: filelock in c:\\users\\acer\\anaconda3\\lib\\site-packages (from torch) (3.6.0)\n",
      "Requirement already satisfied: typing-extensions>=4.8.0 in c:\\users\\acer\\anaconda3\\lib\\site-packages (from torch) (4.12.2)\n",
      "Requirement already satisfied: networkx in c:\\users\\acer\\anaconda3\\lib\\site-packages (from torch) (2.8.4)\n",
      "Requirement already satisfied: jinja2 in c:\\users\\acer\\anaconda3\\lib\\site-packages (from torch) (2.11.3)\n",
      "Requirement already satisfied: fsspec in c:\\users\\acer\\anaconda3\\lib\\site-packages (from torch) (2022.7.1)\n",
      "Requirement already satisfied: sympy==1.13.1 in c:\\users\\acer\\anaconda3\\lib\\site-packages (from torch) (1.13.1)\n",
      "Requirement already satisfied: mpmath<1.4,>=1.1.0 in c:\\users\\acer\\anaconda3\\lib\\site-packages (from sympy==1.13.1->torch) (1.2.1)\n",
      "Requirement already satisfied: MarkupSafe>=0.23 in c:\\users\\acer\\anaconda3\\lib\\site-packages (from jinja2->torch) (2.0.1)\n",
      "Note: you may need to restart the kernel to use updated packages.\n"
     ]
    }
   ],
   "source": [
    "pip install torch"
   ]
  },
  {
   "cell_type": "code",
   "execution_count": 61,
   "id": "1ab212e3",
   "metadata": {},
   "outputs": [],
   "source": [
    "import torch"
   ]
  },
  {
   "cell_type": "code",
   "execution_count": 62,
   "id": "3b449140",
   "metadata": {},
   "outputs": [
    {
     "data": {
      "text/plain": [
       "(tensor([8, 7, 6, 5, 4, 3]),\n",
       " tensor([7, 5, 9, 3, 1, 2, 6, 8]),\n",
       " tensor([[1, 2, 3],\n",
       "         [4, 5, 6]]))"
      ]
     },
     "execution_count": 62,
     "metadata": {},
     "output_type": "execute_result"
    }
   ],
   "source": [
    "# conversion to tensor\n",
    "# a3 = torch.tensor(a)\n",
    "\n",
    "b3 = torch.tensor(b)\n",
    "c3 = torch.tensor(c)\n",
    "d3 = torch.tensor(d)\n",
    "b3,c3,d3"
   ]
  },
  {
   "cell_type": "code",
   "execution_count": 63,
   "id": "7e071251",
   "metadata": {},
   "outputs": [
    {
     "data": {
      "text/plain": [
       "tensor(3)"
      ]
     },
     "execution_count": 63,
     "metadata": {},
     "output_type": "execute_result"
    }
   ],
   "source": [
    "# multidimensional indexes\n",
    "d3[0,-1]"
   ]
  },
  {
   "cell_type": "code",
   "execution_count": 64,
   "id": "b78c0d6e",
   "metadata": {},
   "outputs": [
    {
     "data": {
      "text/plain": [
       "tensor([[1, 2],\n",
       "        [4, 5]])"
      ]
     },
     "execution_count": 64,
     "metadata": {},
     "output_type": "execute_result"
    }
   ],
   "source": [
    "# multidimensional  slices\n",
    "d3[:,:2]"
   ]
  },
  {
   "cell_type": "code",
   "execution_count": 65,
   "id": "72f5f59e",
   "metadata": {},
   "outputs": [
    {
     "data": {
      "text/plain": [
       "tensor([8, 7, 6, 5, 4, 3])"
      ]
     },
     "execution_count": 65,
     "metadata": {},
     "output_type": "execute_result"
    }
   ],
   "source": [
    "# fewer cycles is better\n",
    "# b = [i for i in range(8,2,-1)]\n",
    "b3 = torch.arange(8,2,-1)\n",
    "b3"
   ]
  },
  {
   "cell_type": "markdown",
   "id": "ba0f3c27",
   "metadata": {},
   "source": [
    "### Operation (as Numpy)\n"
   ]
  },
  {
   "cell_type": "code",
   "execution_count": 66,
   "id": "dfbc8b36",
   "metadata": {},
   "outputs": [
    {
     "data": {
      "text/plain": [
       "tensor([[1, 3, 0],\n",
       "        [4, 6, 3]])"
      ]
     },
     "execution_count": 66,
     "metadata": {},
     "output_type": "execute_result"
    }
   ],
   "source": [
    "# Broadcasting and implicit conversion\n",
    "# d2 + [0,1,-3]\n",
    "d3+np.array([0,1,-3])"
   ]
  },
  {
   "cell_type": "code",
   "execution_count": 67,
   "id": "49a38f8a",
   "metadata": {},
   "outputs": [
    {
     "data": {
      "text/plain": [
       "torch.return_types.min(\n",
       "values=tensor([1, 4]),\n",
       "indices=tensor([0, 0]))"
      ]
     },
     "execution_count": 67,
     "metadata": {},
     "output_type": "execute_result"
    }
   ],
   "source": [
    "# statistics as a method\n",
    "d3.min(dim=1) #np.min(d2)"
   ]
  },
  {
   "cell_type": "code",
   "execution_count": 68,
   "id": "e243ea84",
   "metadata": {},
   "outputs": [
    {
     "data": {
      "text/plain": [
       "tensor([1, 4])"
      ]
     },
     "execution_count": 68,
     "metadata": {},
     "output_type": "execute_result"
    }
   ],
   "source": [
    "# those. both np.min and np.argmin at once\n",
    "d3.min(dim=1).values"
   ]
  },
  {
   "cell_type": "code",
   "execution_count": 69,
   "id": "820176ec",
   "metadata": {},
   "outputs": [
    {
     "data": {
      "text/plain": [
       "tensor([[  2.7183,   7.3891,  20.0855],\n",
       "        [ 54.5981, 148.4132, 403.4288]])"
      ]
     },
     "execution_count": 69,
     "metadata": {},
     "output_type": "execute_result"
    }
   ],
   "source": [
    "# mat. operations as a method\n",
    "d3.log()\n",
    "d3.sin()\n",
    "d3.exp()"
   ]
  },
  {
   "cell_type": "code",
   "execution_count": 70,
   "id": "99541d53",
   "metadata": {},
   "outputs": [
    {
     "name": "stdout",
     "output_type": "stream",
     "text": [
      "tensor([[1, 2, 3],\n",
      "        [4, 5, 6]])\n",
      "tensor([[2, 3, 4],\n",
      "        [5, 6, 7]])\n",
      "tensor([[ 5,  6,  7],\n",
      "        [ 8,  9, 10]])\n"
     ]
    }
   ],
   "source": [
    "# inplace operations, i.e. the same memory is used (the source is overwritten)\n",
    "print(d3)\n",
    "print(d3.add_(1))\n",
    "print(d3.add_(3))\n",
    "d3 = torch.tensor(d)"
   ]
  },
  {
   "cell_type": "markdown",
   "id": "6b28dc0e",
   "metadata": {},
   "source": [
    "### Views (as Numpy)"
   ]
  },
  {
   "cell_type": "code",
   "execution_count": 71,
   "id": "4b5324b3",
   "metadata": {},
   "outputs": [
    {
     "data": {
      "text/plain": [
       "(tensor([[1., 2., 3.],\n",
       "         [4., 5., 6.]], dtype=torch.float64),\n",
       " tensor([[1, 2, 3],\n",
       "         [4, 5, 6]], dtype=torch.int8),\n",
       " tensor([[1, 2, 3],\n",
       "         [4, 5, 6]]))"
      ]
     },
     "execution_count": 71,
     "metadata": {},
     "output_type": "execute_result"
    }
   ],
   "source": [
    "# changing types like astype and changing device\n",
    "d3.to(float), d3.to(torch.int8), d3.to('cpu')"
   ]
  },
  {
   "cell_type": "code",
   "execution_count": 72,
   "id": "37038672",
   "metadata": {},
   "outputs": [
    {
     "data": {
      "text/plain": [
       "tensor([1, 2, 3, 4, 5, 6])"
      ]
     },
     "execution_count": 72,
     "metadata": {},
     "output_type": "execute_result"
    }
   ],
   "source": [
    "# \"pull\" into a line\n",
    "d3.ravel()"
   ]
  },
  {
   "cell_type": "code",
   "execution_count": 73,
   "id": "f9310c12",
   "metadata": {},
   "outputs": [
    {
     "data": {
      "text/plain": [
       "tensor([[1, 2, 3, 4, 5, 6]])"
      ]
     },
     "execution_count": 73,
     "metadata": {},
     "output_type": "execute_result"
    }
   ],
   "source": [
    "# change dimension (can create a new tensor)\n",
    "d3.reshape(1,-1)"
   ]
  },
  {
   "cell_type": "code",
   "execution_count": 74,
   "id": "d7f943b0",
   "metadata": {},
   "outputs": [
    {
     "data": {
      "text/plain": [
       "(torch.Size([2, 3, 1]), torch.Size([2, 3, 1]), torch.Size([2, 3, 1]))"
      ]
     },
     "execution_count": 74,
     "metadata": {},
     "output_type": "execute_result"
    }
   ],
   "source": [
    "# adding dimension\n",
    "d3.reshape(2,3,1).shape,d3[...,None].shape,d3.unsqueeze(2).shape"
   ]
  },
  {
   "cell_type": "code",
   "execution_count": 75,
   "id": "c5e7895e",
   "metadata": {},
   "outputs": [
    {
     "data": {
      "text/plain": [
       "(tensor([[1, 2, 3, 4, 5, 6]]),\n",
       " tensor([[1, 0, 2, 0, 3, 0],\n",
       "         [4, 0, 5, 0, 6, 0]], dtype=torch.int32))"
      ]
     },
     "execution_count": 75,
     "metadata": {},
     "output_type": "execute_result"
    }
   ],
   "source": [
    "# Views (guarantees memory reuse)\n",
    "d3.view(1,-1),d3.view(torch.int32)"
   ]
  },
  {
   "cell_type": "code",
   "execution_count": 76,
   "id": "073f90e2",
   "metadata": {},
   "outputs": [
    {
     "data": {
      "text/plain": [
       "tensor([[1, 4],\n",
       "        [2, 5],\n",
       "        [3, 6]])"
      ]
     },
     "execution_count": 76,
     "metadata": {},
     "output_type": "execute_result"
    }
   ],
   "source": [
    "# rearrangement of all dimensions of several\n",
    "d3.permute(1,0)"
   ]
  },
  {
   "cell_type": "code",
   "execution_count": 77,
   "id": "fe931e2d",
   "metadata": {},
   "outputs": [
    {
     "data": {
      "text/plain": [
       "tensor([[1, 4],\n",
       "        [2, 5],\n",
       "        [3, 6]])"
      ]
     },
     "execution_count": 77,
     "metadata": {},
     "output_type": "execute_result"
    }
   ],
   "source": [
    "# swap two dimensions\n",
    "d3.transpose(1,0)"
   ]
  },
  {
   "cell_type": "code",
   "execution_count": 78,
   "id": "ca691cad",
   "metadata": {},
   "outputs": [
    {
     "data": {
      "text/plain": [
       "tensor([[1, 4],\n",
       "        [2, 5],\n",
       "        [3, 6]])"
      ]
     },
     "execution_count": 78,
     "metadata": {},
     "output_type": "execute_result"
    }
   ],
   "source": [
    "# tensor transpose (reverse order of dimensions)\n",
    "d3.T # = x.permute(n-1,n-2,....,0)"
   ]
  },
  {
   "cell_type": "code",
   "execution_count": 79,
   "id": "debdf040",
   "metadata": {},
   "outputs": [
    {
     "data": {
      "text/plain": [
       "tensor([[1, 4],\n",
       "        [2, 5],\n",
       "        [3, 6]])"
      ]
     },
     "execution_count": 79,
     "metadata": {},
     "output_type": "execute_result"
    }
   ],
   "source": [
    "# simple transpose (dimension ≤ 2)\n",
    "d3.t() #= x.transpose(1,0)"
   ]
  },
  {
   "cell_type": "markdown",
   "id": "7cb167ac",
   "metadata": {},
   "source": [
    "### Singular Tensors (as Numpy)"
   ]
  },
  {
   "cell_type": "code",
   "execution_count": 80,
   "id": "e9be052d",
   "metadata": {},
   "outputs": [
    {
     "data": {
      "text/plain": [
       "tensor([[1., 1., 1.],\n",
       "        [1., 1., 1.]])"
      ]
     },
     "execution_count": 80,
     "metadata": {},
     "output_type": "execute_result"
    }
   ],
   "source": [
    "torch.ones((2,3))"
   ]
  },
  {
   "cell_type": "code",
   "execution_count": 81,
   "id": "d6a11bad",
   "metadata": {},
   "outputs": [
    {
     "data": {
      "text/plain": [
       "tensor([[0., 0., 0.],\n",
       "        [0., 0., 0.]])"
      ]
     },
     "execution_count": 81,
     "metadata": {},
     "output_type": "execute_result"
    }
   ],
   "source": [
    "torch.zeros(2,3)"
   ]
  },
  {
   "cell_type": "code",
   "execution_count": 82,
   "id": "4bd4a950",
   "metadata": {},
   "outputs": [
    {
     "data": {
      "text/plain": [
       "tensor([[1., 0., 0.],\n",
       "        [0., 1., 0.],\n",
       "        [0., 0., 1.]])"
      ]
     },
     "execution_count": 82,
     "metadata": {},
     "output_type": "execute_result"
    }
   ],
   "source": [
    "torch.eye(3)"
   ]
  },
  {
   "cell_type": "code",
   "execution_count": 83,
   "id": "7ffd45a9",
   "metadata": {},
   "outputs": [
    {
     "data": {
      "text/plain": [
       "tensor([[8, 0, 0, 0, 0, 0],\n",
       "        [0, 7, 0, 0, 0, 0],\n",
       "        [0, 0, 6, 0, 0, 0],\n",
       "        [0, 0, 0, 5, 0, 0],\n",
       "        [0, 0, 0, 0, 4, 0],\n",
       "        [0, 0, 0, 0, 0, 3]])"
      ]
     },
     "execution_count": 83,
     "metadata": {},
     "output_type": "execute_result"
    }
   ],
   "source": [
    "torch.diag(b3)"
   ]
  },
  {
   "cell_type": "code",
   "execution_count": 84,
   "id": "42a51a54",
   "metadata": {},
   "outputs": [
    {
     "data": {
      "text/plain": [
       "tensor([[0.3065, 0.6981, 0.4008],\n",
       "        [0.1188, 0.7196, 0.6524]])"
      ]
     },
     "execution_count": 84,
     "metadata": {},
     "output_type": "execute_result"
    }
   ],
   "source": [
    "# uniform distribution over [0,1)\n",
    "torch.rand(2,3)"
   ]
  },
  {
   "cell_type": "code",
   "execution_count": 85,
   "id": "bac9a3a3",
   "metadata": {},
   "outputs": [
    {
     "data": {
      "text/plain": [
       "tensor([[0., 0., 0.],\n",
       "        [0., 0., 0.]], dtype=torch.float64)"
      ]
     },
     "execution_count": 85,
     "metadata": {},
     "output_type": "execute_result"
    }
   ],
   "source": [
    "empty = torch.empty_like(d3,dtype=float)\n",
    "empty"
   ]
  },
  {
   "cell_type": "code",
   "execution_count": 86,
   "id": "c4d22080",
   "metadata": {},
   "outputs": [
    {
     "data": {
      "text/plain": [
       "tensor([[  2.7183,   7.3891,  20.0855],\n",
       "        [ 54.5981, 148.4132, 403.4288]], dtype=torch.float64)"
      ]
     },
     "execution_count": 86,
     "metadata": {},
     "output_type": "execute_result"
    }
   ],
   "source": [
    "torch.exp(d3,out=empty)\n",
    "empty"
   ]
  },
  {
   "cell_type": "markdown",
   "id": "a1fd437d",
   "metadata": {},
   "source": [
    "# [2] Regular expressions\n",
    "> Подробнее [тут](https://proglib.io/p/regulyarnye-vyrazheniya-v-python-za-5-minut-teoriya-i-praktika-dlya-novichkov-i-ne-tolko-2022-04-05)  \n",
    "> Песочница https://regex101.com"
   ]
  },
  {
   "cell_type": "code",
   "execution_count": null,
   "id": "28d524d3",
   "metadata": {},
   "outputs": [],
   "source": []
  },
  {
   "cell_type": "markdown",
   "id": "01ede19c",
   "metadata": {},
   "source": [
    "# [3] Text Preprocessing\n",
    "The NLTK library will be discussed next, but for the sake of interest, you can also look at [SpaCy](https://spacy.io/)"
   ]
  },
  {
   "cell_type": "markdown",
   "id": "334080dd",
   "metadata": {},
   "source": [
    "## Text Tokenization Libraries\n",
    "\n",
    "Tokenization of text in English using libraries:\n",
    "- [Natural Language Toolkit (NLTK)](https://www.nltk.org/).]\n",
    "- [spaCy](https://spacy.io)\n"
   ]
  },
  {
   "cell_type": "code",
   "execution_count": 87,
   "id": "681d9e1c",
   "metadata": {},
   "outputs": [
    {
     "name": "stdout",
     "output_type": "stream",
     "text": [
      "Requirement already satisfied: typing-extensions in c:\\users\\acer\\anaconda3\\lib\\site-packages (4.12.2)\n",
      "Note: you may need to restart the kernel to use updated packages.\n"
     ]
    }
   ],
   "source": [
    "# %pip install -U pip setuptools wheel\n",
    "# %pip install -U spacy\n",
    "# !python -m spacy download en_core_web_sm\n",
    "%pip install typing-extensions -U"
   ]
  },
  {
   "cell_type": "code",
   "execution_count": 88,
   "id": "0acf244a",
   "metadata": {},
   "outputs": [
    {
     "name": "stdout",
     "output_type": "stream",
     "text": [
      "Requirement already satisfied: PyQt5 in c:\\users\\acer\\anaconda3\\lib\\site-packages (5.15.11)\n",
      "Requirement already satisfied: PyQt5-sip<13,>=12.15 in c:\\users\\acer\\anaconda3\\lib\\site-packages (from PyQt5) (12.16.1)\n",
      "Requirement already satisfied: PyQt5-Qt5<5.16.0,>=5.15.2 in c:\\users\\acer\\anaconda3\\lib\\site-packages (from PyQt5) (5.15.2)\n",
      "Note: you may need to restart the kernel to use updated packages.\n",
      "Requirement already satisfied: PyQtWebEngine in c:\\users\\acer\\anaconda3\\lib\\site-packages (5.15.7)\n",
      "Requirement already satisfied: PyQt5-sip<13,>=12.13 in c:\\users\\acer\\anaconda3\\lib\\site-packages (from PyQtWebEngine) (12.16.1)\n",
      "Requirement already satisfied: PyQtWebEngine-Qt5<5.16.0,>=5.15.0 in c:\\users\\acer\\anaconda3\\lib\\site-packages (from PyQtWebEngine) (5.15.2)\n",
      "Requirement already satisfied: PyQt5>=5.15.4 in c:\\users\\acer\\anaconda3\\lib\\site-packages (from PyQtWebEngine) (5.15.11)\n",
      "Requirement already satisfied: PyQt5-Qt5<5.16.0,>=5.15.2 in c:\\users\\acer\\anaconda3\\lib\\site-packages (from PyQt5>=5.15.4->PyQtWebEngine) (5.15.2)\n",
      "Note: you may need to restart the kernel to use updated packages.\n"
     ]
    }
   ],
   "source": [
    "# pip install --force-reinstall typing-extensions==4.5.0\n",
    "%pip install PyQt5 -U\n",
    "%pip install PyQtWebEngine -U\n",
    "# %pip install --force-reinstall typing-extensions==4.5.0\n"
   ]
  },
  {
   "cell_type": "code",
   "execution_count": 90,
   "id": "792ddf79",
   "metadata": {
    "scrolled": false
   },
   "outputs": [],
   "source": [
    "import requests \n",
    "import nltk\n",
    "# import spacy \n",
    "from nltk.tokenize import sent_tokenize, word_tokenize"
   ]
  },
  {
   "cell_type": "code",
   "execution_count": null,
   "id": "93c5a42c",
   "metadata": {},
   "outputs": [],
   "source": [
    "%pip install typing-extensions -U\n",
    "%pip install wheel -U\n"
   ]
  },
  {
   "cell_type": "markdown",
   "id": "b8fe8a12",
   "metadata": {},
   "source": [
    "Text for tokenization"
   ]
  },
  {
   "cell_type": "code",
   "execution_count": 91,
   "id": "3eadd63c",
   "metadata": {},
   "outputs": [],
   "source": [
    "text = \"\"\"\n",
    "Ilya Segalovich was born into the family of the Soviet geophysicist V.I. Segalovich. He spent his childhood in\n",
    "Kazakhstan. At the Republican Physics and Mathematics School, he met the future co-founder of\n",
    "\"Yandex\" Arkady Volozh. In 1981, he entered the Moscow Geological Prospecting Institute\n",
    "named after Ordzhonikidze.\n",
    "\n",
    "From the very foundation of Yandex until his death, Ilya Segalovich held the position of Director of\n",
    "Technology, was the key architect of search technologies and the initiator of many of the company's\n",
    "products, such as Yandex.Direct, the voice assistant \"Alice\" and a driverless car.\n",
    "\"\"\""
   ]
  },
  {
   "cell_type": "markdown",
   "id": "996b8f0c",
   "metadata": {},
   "source": [
    "## Word division by spaces"
   ]
  },
  {
   "cell_type": "code",
   "execution_count": 92,
   "id": "eda270c1",
   "metadata": {},
   "outputs": [
    {
     "name": "stdout",
     "output_type": "stream",
     "text": [
      "['Ilya', 'Segalovich', 'was', 'born', 'into', 'the', 'family', 'of', 'the', 'Soviet', 'geophysicist', 'V.I.', 'Segalovich.', 'He', 'spent', 'his', 'childhood', 'in', 'Kazakhstan.', 'At', 'the', 'Republican', 'Physics', 'and', 'Mathematics', 'School,', 'he', 'met', 'the', 'future', 'co-founder', 'of', '\"Yandex\"', 'Arkady', 'Volozh.', 'In', '1981,', 'he', 'entered', 'the', 'Moscow', 'Geological', 'Prospecting', 'Institute', 'named', 'after', 'Ordzhonikidze.', 'From', 'the', 'very', 'foundation', 'of', 'Yandex', 'until', 'his', 'death,', 'Ilya', 'Segalovich', 'held', 'the', 'position', 'of', 'Director', 'of', 'Technology,', 'was', 'the', 'key', 'architect', 'of', 'search', 'technologies', 'and', 'the', 'initiator', 'of', 'many', 'of', 'the', \"company's\", 'products,', 'such', 'as', 'Yandex.Direct,', 'the', 'voice', 'assistant', '\"Alice\"', 'and', 'a', 'driverless', 'car.']\n"
     ]
    }
   ],
   "source": [
    "print(text.split())"
   ]
  },
  {
   "cell_type": "markdown",
   "id": "9fcb2f91",
   "metadata": {},
   "source": [
    "## Characterization"
   ]
  },
  {
   "cell_type": "code",
   "execution_count": 93,
   "id": "c920f9f2",
   "metadata": {},
   "outputs": [
    {
     "name": "stdout",
     "output_type": "stream",
     "text": [
      "['\\n', 'I', 'l', 'y', 'a', ' ', 'S', 'e', 'g', 'a', 'l', 'o', 'v', 'i', 'c', 'h', ' ', 'w', 'a', 's', ' ', 'b', 'o', 'r', 'n', ' ', 'i', 'n', 't', 'o', ' ', 't', 'h', 'e', ' ', 'f', 'a', 'm', 'i', 'l', 'y', ' ', 'o', 'f', ' ', 't', 'h', 'e', ' ', 'S', 'o', 'v', 'i', 'e', 't', ' ', 'g', 'e', 'o', 'p', 'h', 'y', 's', 'i', 'c', 'i', 's', 't', ' ', 'V', '.', 'I', '.', ' ', 'S', 'e', 'g', 'a', 'l', 'o', 'v', 'i', 'c', 'h', '.', ' ', 'H', 'e', ' ', 's', 'p', 'e', 'n', 't', ' ', 'h', 'i', 's', ' ', 'c', 'h', 'i', 'l', 'd', 'h', 'o', 'o', 'd', ' ', 'i', 'n', '\\n', 'K', 'a', 'z', 'a', 'k', 'h', 's', 't', 'a', 'n', '.', ' ', 'A', 't', ' ', 't', 'h', 'e', ' ', 'R', 'e', 'p', 'u', 'b', 'l', 'i', 'c', 'a', 'n', ' ', 'P', 'h', 'y', 's', 'i', 'c', 's', ' ', 'a', 'n', 'd', ' ', 'M', 'a', 't', 'h', 'e', 'm', 'a', 't', 'i', 'c', 's', ' ', 'S', 'c', 'h', 'o', 'o', 'l', ',', ' ', 'h', 'e', ' ', 'm', 'e', 't', ' ', 't', 'h', 'e', ' ', 'f', 'u', 't', 'u', 'r', 'e', ' ', 'c', 'o', '-', 'f', 'o', 'u', 'n', 'd', 'e', 'r', ' ', 'o', 'f', '\\n', '\"', 'Y', 'a', 'n', 'd', 'e', 'x', '\"', ' ', 'A', 'r', 'k', 'a', 'd', 'y', ' ', 'V', 'o', 'l', 'o', 'z', 'h', '.', ' ', 'I', 'n', ' ', '1', '9', '8', '1', ',', ' ', 'h', 'e', ' ', 'e', 'n', 't', 'e', 'r', 'e', 'd', ' ', 't', 'h', 'e', ' ', 'M', 'o', 's', 'c', 'o', 'w', ' ', 'G', 'e', 'o', 'l', 'o', 'g', 'i', 'c', 'a', 'l', ' ', 'P', 'r', 'o', 's', 'p', 'e', 'c', 't', 'i', 'n', 'g', ' ', 'I', 'n', 's', 't', 'i', 't', 'u', 't', 'e', '\\n', 'n', 'a', 'm', 'e', 'd', ' ', 'a', 'f', 't', 'e', 'r', ' ', 'O', 'r', 'd', 'z', 'h', 'o', 'n', 'i', 'k', 'i', 'd', 'z', 'e', '.', '\\n', '\\n', 'F', 'r', 'o', 'm', ' ', 't', 'h', 'e', ' ', 'v', 'e', 'r', 'y', ' ', 'f', 'o', 'u', 'n', 'd', 'a', 't', 'i', 'o', 'n', ' ', 'o', 'f', ' ', 'Y', 'a', 'n', 'd', 'e', 'x', ' ', 'u', 'n', 't', 'i', 'l', ' ', 'h', 'i', 's', ' ', 'd', 'e', 'a', 't', 'h', ',', ' ', 'I', 'l', 'y', 'a', ' ', 'S', 'e', 'g', 'a', 'l', 'o', 'v', 'i', 'c', 'h', ' ', 'h', 'e', 'l', 'd', ' ', 't', 'h', 'e', ' ', 'p', 'o', 's', 'i', 't', 'i', 'o', 'n', ' ', 'o', 'f', ' ', 'D', 'i', 'r', 'e', 'c', 't', 'o', 'r', ' ', 'o', 'f', '\\n', 'T', 'e', 'c', 'h', 'n', 'o', 'l', 'o', 'g', 'y', ',', ' ', 'w', 'a', 's', ' ', 't', 'h', 'e', ' ', 'k', 'e', 'y', ' ', 'a', 'r', 'c', 'h', 'i', 't', 'e', 'c', 't', ' ', 'o', 'f', ' ', 's', 'e', 'a', 'r', 'c', 'h', ' ', 't', 'e', 'c', 'h', 'n', 'o', 'l', 'o', 'g', 'i', 'e', 's', ' ', 'a', 'n', 'd', ' ', 't', 'h', 'e', ' ', 'i', 'n', 'i', 't', 'i', 'a', 't', 'o', 'r', ' ', 'o', 'f', ' ', 'm', 'a', 'n', 'y', ' ', 'o', 'f', ' ', 't', 'h', 'e', ' ', 'c', 'o', 'm', 'p', 'a', 'n', 'y', \"'\", 's', '\\n', 'p', 'r', 'o', 'd', 'u', 'c', 't', 's', ',', ' ', 's', 'u', 'c', 'h', ' ', 'a', 's', ' ', 'Y', 'a', 'n', 'd', 'e', 'x', '.', 'D', 'i', 'r', 'e', 'c', 't', ',', ' ', 't', 'h', 'e', ' ', 'v', 'o', 'i', 'c', 'e', ' ', 'a', 's', 's', 'i', 's', 't', 'a', 'n', 't', ' ', '\"', 'A', 'l', 'i', 'c', 'e', '\"', ' ', 'a', 'n', 'd', ' ', 'a', ' ', 'd', 'r', 'i', 'v', 'e', 'r', 'l', 'e', 's', 's', ' ', 'c', 'a', 'r', '.', '\\n']\n"
     ]
    }
   ],
   "source": [
    "print(list(text))"
   ]
  },
  {
   "cell_type": "markdown",
   "id": "dfc3f796",
   "metadata": {},
   "source": [
    "##  [NLTK](https://www.nltk.org/) Library"
   ]
  },
  {
   "cell_type": "code",
   "execution_count": 94,
   "id": "0b6c17a0",
   "metadata": {},
   "outputs": [
    {
     "name": "stderr",
     "output_type": "stream",
     "text": [
      "[nltk_data] Downloading package punkt to\n",
      "[nltk_data]     C:\\Users\\acer\\AppData\\Roaming\\nltk_data...\n",
      "[nltk_data]   Package punkt is already up-to-date!\n"
     ]
    },
    {
     "data": {
      "text/plain": [
       "True"
      ]
     },
     "execution_count": 94,
     "metadata": {},
     "output_type": "execute_result"
    }
   ],
   "source": [
    "import nltk\n",
    "from nltk.tokenize import sent_tokenize, word_tokenize\n",
    "nltk.download('punkt')"
   ]
  },
  {
   "cell_type": "code",
   "execution_count": 95,
   "id": "90dd4990",
   "metadata": {},
   "outputs": [
    {
     "name": "stdout",
     "output_type": "stream",
     "text": [
      "['\\nIlya Segalovich was born into the family of the Soviet geophysicist V.I.', 'Segalovich.', 'He spent his childhood in\\nKazakhstan.', 'At the Republican Physics and Mathematics School, he met the future co-founder of\\n\"Yandex\" Arkady Volozh.', 'In 1981, he entered the Moscow Geological Prospecting Institute\\nnamed after Ordzhonikidze.', 'From the very foundation of Yandex until his death, Ilya Segalovich held the position of Director of\\nTechnology, was the key architect of search technologies and the initiator of many of the company\\'s\\nproducts, such as Yandex.Direct, the voice assistant \"Alice\" and a driverless car.']\n"
     ]
    }
   ],
   "source": [
    "# Tokenization by sentences\n",
    "sentences = sent_tokenize(text)\n",
    "print(sentences\n",
    "     )"
   ]
  },
  {
   "cell_type": "markdown",
   "id": "6472569a",
   "metadata": {},
   "source": [
    "##  [spaCy](spacy.io) Library"
   ]
  },
  {
   "cell_type": "code",
   "execution_count": 96,
   "id": "fea32db3",
   "metadata": {},
   "outputs": [],
   "source": [
    "# %pip install  spacy==3.3\n",
    "# !python -m spacy download en_core_web_sm"
   ]
  },
  {
   "cell_type": "code",
   "execution_count": 97,
   "id": "1da5ac3d",
   "metadata": {},
   "outputs": [],
   "source": [
    "# en_core_web_sm\n",
    "# English pipeline optimized for CPU. Components: tok2vec, tagger, parser, senter, ner, attribute_ruler, lemmatizer."
   ]
  },
  {
   "cell_type": "code",
   "execution_count": null,
   "id": "2085bee1",
   "metadata": {},
   "outputs": [],
   "source": [
    "# import spacy \n",
    "# nlp = spacy.load('en_core_web_sm')"
   ]
  },
  {
   "cell_type": "code",
   "execution_count": null,
   "id": "8933ee5b",
   "metadata": {},
   "outputs": [],
   "source": [
    "doc = nlp(text)\n",
    "print(*doc,sep='][')"
   ]
  },
  {
   "cell_type": "code",
   "execution_count": null,
   "id": "d1da6f01",
   "metadata": {},
   "outputs": [],
   "source": []
  }
 ],
 "metadata": {
  "kernelspec": {
   "display_name": "Python 3 (ipykernel)",
   "language": "python",
   "name": "python3"
  },
  "language_info": {
   "codemirror_mode": {
    "name": "ipython",
    "version": 3
   },
   "file_extension": ".py",
   "mimetype": "text/x-python",
   "name": "python",
   "nbconvert_exporter": "python",
   "pygments_lexer": "ipython3",
   "version": "3.9.13"
  }
 },
 "nbformat": 4,
 "nbformat_minor": 5
}
